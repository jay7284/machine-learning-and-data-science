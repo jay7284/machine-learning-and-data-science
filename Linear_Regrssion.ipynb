{
  "nbformat": 4,
  "nbformat_minor": 0,
  "metadata": {
    "colab": {
      "name": "Linear Regrssion.ipynb",
      "provenance": [],
      "authorship_tag": "ABX9TyPH+aWFCHJFH02ZOOLYsC8I",
      "include_colab_link": true
    },
    "kernelspec": {
      "name": "python3",
      "display_name": "Python 3"
    }
  },
  "cells": [
    {
      "cell_type": "markdown",
      "metadata": {
        "id": "view-in-github",
        "colab_type": "text"
      },
      "source": [
        "<a href=\"https://colab.research.google.com/github/jay7284/machine-learning-and-data-science/blob/main/Linear_Regrssion.ipynb\" target=\"_parent\"><img src=\"https://colab.research.google.com/assets/colab-badge.svg\" alt=\"Open In Colab\"/></a>"
      ]
    },
    {
      "cell_type": "code",
      "metadata": {
        "id": "S60sikwo1daG"
      },
      "source": [
        "# Importing all the required libraries\n",
        "import pandas as pd # for handeling data in the tabular formate and data preparation.\n",
        "import numpy as np  # for handeling N-dimensional arrays and data processing\n",
        "from sklearn.model_selection import train_test_split  # for splitting the data into train and test set by randomly picking it.\n",
        "from sklearn.metrics import mean_absolute_error # to analyze the performance of the model in predicting the score.\n",
        "from matplotlib import pyplot as plt  # for visualization purpose e.g. scatter plot, line plot etc."
      ],
      "execution_count": 63,
      "outputs": []
    },
    {
      "cell_type": "markdown",
      "metadata": {
        "id": "0rZB92bPDo1a"
      },
      "source": [
        "**importing data from csv file into a pandas Dataframe**"
      ]
    },
    {
      "cell_type": "code",
      "metadata": {
        "colab": {
          "base_uri": "https://localhost:8080/",
          "height": 204
        },
        "id": "wxziyKUk2gx_",
        "outputId": "bf7fe867-e246-4ac5-9433-772328bb9a6b"
      },
      "source": [
        "url = 'http://bit.ly/w-data'\n",
        "data = pd.read_csv(url)\n",
        "data.head()"
      ],
      "execution_count": 64,
      "outputs": [
        {
          "output_type": "execute_result",
          "data": {
            "text/html": [
              "<div>\n",
              "<style scoped>\n",
              "    .dataframe tbody tr th:only-of-type {\n",
              "        vertical-align: middle;\n",
              "    }\n",
              "\n",
              "    .dataframe tbody tr th {\n",
              "        vertical-align: top;\n",
              "    }\n",
              "\n",
              "    .dataframe thead th {\n",
              "        text-align: right;\n",
              "    }\n",
              "</style>\n",
              "<table border=\"1\" class=\"dataframe\">\n",
              "  <thead>\n",
              "    <tr style=\"text-align: right;\">\n",
              "      <th></th>\n",
              "      <th>Hours</th>\n",
              "      <th>Scores</th>\n",
              "    </tr>\n",
              "  </thead>\n",
              "  <tbody>\n",
              "    <tr>\n",
              "      <th>0</th>\n",
              "      <td>2.5</td>\n",
              "      <td>21</td>\n",
              "    </tr>\n",
              "    <tr>\n",
              "      <th>1</th>\n",
              "      <td>5.1</td>\n",
              "      <td>47</td>\n",
              "    </tr>\n",
              "    <tr>\n",
              "      <th>2</th>\n",
              "      <td>3.2</td>\n",
              "      <td>27</td>\n",
              "    </tr>\n",
              "    <tr>\n",
              "      <th>3</th>\n",
              "      <td>8.5</td>\n",
              "      <td>75</td>\n",
              "    </tr>\n",
              "    <tr>\n",
              "      <th>4</th>\n",
              "      <td>3.5</td>\n",
              "      <td>30</td>\n",
              "    </tr>\n",
              "  </tbody>\n",
              "</table>\n",
              "</div>"
            ],
            "text/plain": [
              "   Hours  Scores\n",
              "0    2.5      21\n",
              "1    5.1      47\n",
              "2    3.2      27\n",
              "3    8.5      75\n",
              "4    3.5      30"
            ]
          },
          "metadata": {
            "tags": []
          },
          "execution_count": 64
        }
      ]
    },
    {
      "cell_type": "markdown",
      "metadata": {
        "id": "MIdGTh-qGPs0"
      },
      "source": [
        "**Visualizing the data**"
      ]
    },
    {
      "cell_type": "code",
      "metadata": {
        "colab": {
          "base_uri": "https://localhost:8080/",
          "height": 282
        },
        "id": "k3NAnAp_GPTA",
        "outputId": "511f3f3a-26ea-4d76-d130-df763309aa22"
      },
      "source": [
        "plt.scatter(x,y)"
      ],
      "execution_count": 65,
      "outputs": [
        {
          "output_type": "execute_result",
          "data": {
            "text/plain": [
              "<matplotlib.collections.PathCollection at 0x7fa034753e48>"
            ]
          },
          "metadata": {
            "tags": []
          },
          "execution_count": 65
        },
        {
          "output_type": "display_data",
          "data": {
            "image/png": "[encoded data removed]",
            "text/plain": [
              "<Figure size 432x288 with 1 Axes>"
            ]
          },
          "metadata": {
            "tags": [],
            "needs_background": "light"
          }
        }
      ]
    },
    {
      "cell_type": "code",
      "metadata": {
        "id": "BRtykFWZ25eQ"
      },
      "source": [
        "x = data.Hours.values # feature (Hours)\n",
        "y= data.Scores.values # label (Score)"
      ],
      "execution_count": 66,
      "outputs": []
    },
    {
      "cell_type": "markdown",
      "metadata": {
        "id": "UXxQt_XpEAec"
      },
      "source": [
        "**splitting the data into train and test sets**"
      ]
    },
    {
      "cell_type": "code",
      "metadata": {
        "id": "_ilTKjyI3JAd"
      },
      "source": [
        "train_x, test_x, train_y, test_y= train_test_split(x, y, random_state= 0)\n",
        "\n",
        "# reshaping the arrays to give second dimension of array as 1 so that we can feed this to the model.\n",
        "train_x = train_x.reshape(-1,1)\n",
        "train_y = train_y.reshape(-1,1)\n",
        "test_x = test_x.reshape(-1,1)\n",
        "test_y = test_y.reshape(-1,1)"
      ],
      "execution_count": 67,
      "outputs": []
    },
    {
      "cell_type": "markdown",
      "metadata": {
        "id": "K9qMPXwyEwvp"
      },
      "source": [
        "**machine learning model defination**"
      ]
    },
    {
      "cell_type": "code",
      "metadata": {
        "id": "s0MN6BvI3uPu"
      },
      "source": [
        "from sklearn.linear_model import LinearRegression\n",
        "model = LinearRegression()"
      ],
      "execution_count": 68,
      "outputs": []
    },
    {
      "cell_type": "markdown",
      "metadata": {
        "id": "UV8jXBwYFDAI"
      },
      "source": [
        "**model training**"
      ]
    },
    {
      "cell_type": "code",
      "metadata": {
        "colab": {
          "base_uri": "https://localhost:8080/"
        },
        "id": "kj8ef7QS4qE9",
        "outputId": "3f202117-a860-4724-caca-f8dc4ddb049f"
      },
      "source": [
        "model.fit(train_x, train_y)\n",
        "print(\"training completed!\")"
      ],
      "execution_count": 69,
      "outputs": [
        {
          "output_type": "stream",
          "text": [
            "training completed!\n"
          ],
          "name": "stdout"
        }
      ]
    },
    {
      "cell_type": "markdown",
      "metadata": {
        "id": "RuqHAq4cFUGU"
      },
      "source": [
        "**testing the model**"
      ]
    },
    {
      "cell_type": "code",
      "metadata": {
        "colab": {
          "base_uri": "https://localhost:8080/"
        },
        "id": "NluyyQv74wjA",
        "outputId": "d890f23d-1414-436f-deac-60beaec9d5f7"
      },
      "source": [
        "predicted_data = model.predict(test_x)\n",
        "print(\"Actual data  predicted data\")\n",
        "for i in range(len(test_y)):\n",
        "  print(\"     {}   {}\".format(test_y[i], predicted_data[i]))"
      ],
      "execution_count": 70,
      "outputs": [
        {
          "output_type": "stream",
          "text": [
            "Actual data  predicted data\n",
            "     [20]   [16.84472176]\n",
            "     [27]   [33.74557494]\n",
            "     [69]   [75.50062397]\n",
            "     [30]   [26.7864001]\n",
            "     [62]   [60.58810646]\n",
            "     [35]   [39.71058194]\n",
            "     [24]   [20.8213931]\n"
          ],
          "name": "stdout"
        }
      ]
    },
    {
      "cell_type": "markdown",
      "metadata": {
        "id": "q7D0AFDaFb_i"
      },
      "source": [
        "**error measurement**"
      ]
    },
    {
      "cell_type": "code",
      "metadata": {
        "id": "3XKkAlkiFwsN"
      },
      "source": [
        ""
      ],
      "execution_count": 70,
      "outputs": []
    },
    {
      "cell_type": "markdown",
      "metadata": {
        "id": "0ZntJgd6Fvkj"
      },
      "source": [
        "**Mean Absolute Error**"
      ]
    },
    {
      "cell_type": "code",
      "metadata": {
        "colab": {
          "base_uri": "https://localhost:8080/"
        },
        "id": "UavXafqU7Z_4",
        "outputId": "b131df8e-99a2-438b-f895-69ecb518f7e2"
      },
      "source": [
        "mean_absolute_error(test_y, predicted_data)"
      ],
      "execution_count": 71,
      "outputs": [
        {
          "output_type": "execute_result",
          "data": {
            "text/plain": [
              "4.130879918502482"
            ]
          },
          "metadata": {
            "tags": []
          },
          "execution_count": 71
        }
      ]
    },
    {
      "cell_type": "code",
      "metadata": {
        "id": "uHEppOzE9T7G"
      },
      "source": [
        ""
      ],
      "execution_count": 71,
      "outputs": []
    },
    {
      "cell_type": "markdown",
      "metadata": {
        "id": "N5Y8kDQyF99m"
      },
      "source": [
        "**R2 value for the curve**"
      ]
    },
    {
      "cell_type": "code",
      "metadata": {
        "colab": {
          "base_uri": "https://localhost:8080/"
        },
        "id": "gA60TieMAaa-",
        "outputId": "6e3c94bd-3aa4-480b-c307-8fe796ae305b"
      },
      "source": [
        "from sklearn.metrics import r2_score, mean_squared_error\n",
        "r2_score(test_y, predicted_data)"
      ],
      "execution_count": 72,
      "outputs": [
        {
          "output_type": "execute_result",
          "data": {
            "text/plain": [
              "0.9367661043365056"
            ]
          },
          "metadata": {
            "tags": []
          },
          "execution_count": 72
        }
      ]
    },
    {
      "cell_type": "markdown",
      "metadata": {
        "id": "NdMk_ci8GGfG"
      },
      "source": [
        "**Mean Squared Error**"
      ]
    },
    {
      "cell_type": "code",
      "metadata": {
        "colab": {
          "base_uri": "https://localhost:8080/"
        },
        "id": "crsiW7wLCOaW",
        "outputId": "5b90c69f-37c3-4ea5-c919-4361e73db4a8"
      },
      "source": [
        "mean_squared_error(test_y, predicted_data)"
      ],
      "execution_count": 73,
      "outputs": [
        {
          "output_type": "execute_result",
          "data": {
            "text/plain": [
              "20.33292367497996"
            ]
          },
          "metadata": {
            "tags": []
          },
          "execution_count": 73
        }
      ]
    },
    {
      "cell_type": "markdown",
      "metadata": {
        "id": "KyDlwF3rFh6y"
      },
      "source": [
        "**visualizing the fit**"
      ]
    },
    {
      "cell_type": "code",
      "metadata": {
        "colab": {
          "base_uri": "https://localhost:8080/",
          "height": 282
        },
        "id": "ffUqaTRF9U7I",
        "outputId": "e794ef36-67bd-4bc7-bf0a-d20c24f58746"
      },
      "source": [
        "plt.scatter(x,y)\n",
        "plt.plot(x, model.predict(x.reshape(-1,1)), color='red')"
      ],
      "execution_count": 74,
      "outputs": [
        {
          "output_type": "execute_result",
          "data": {
            "text/plain": [
              "[<matplotlib.lines.Line2D at 0x7fa0348146d8>]"
            ]
          },
          "metadata": {
            "tags": []
          },
          "execution_count": 74
        },
        {
          "output_type": "display_data",
          "data": {
            "image/png": "[encoded data removed]",
            "text/plain": [
              "<Figure size 432x288 with 1 Axes>"
            ]
          },
          "metadata": {
            "tags": [],
            "needs_background": "light"
          }
        }
      ]
    },
    {
      "cell_type": "code",
      "metadata": {
        "id": "6Ps1gQBjCdk-"
      },
      "source": [
        ""
      ],
      "execution_count": 74,
      "outputs": []
    }
  ]
}