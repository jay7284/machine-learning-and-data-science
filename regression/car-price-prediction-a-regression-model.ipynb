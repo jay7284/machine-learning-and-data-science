{
 "cells": [
  {
   "cell_type": "code",
   "execution_count": 1,
   "id": "unauthorized-argentina",
   "metadata": {
    "_cell_guid": "b1076dfc-b9ad-4769-8c92-a6c4dae69d19",
    "_uuid": "8f2839f25d086af736a60e9eeb907d3b93b6e0e5",
    "execution": {
     "iopub.execute_input": "2021-04-18T06:55:38.828908Z",
     "iopub.status.busy": "2021-04-18T06:55:38.828247Z",
     "iopub.status.idle": "2021-04-18T06:55:38.849760Z",
     "shell.execute_reply": "2021-04-18T06:55:38.848881Z"
    },
    "papermill": {
     "duration": 0.072802,
     "end_time": "2021-04-18T06:55:38.849973",
     "exception": false,
     "start_time": "2021-04-18T06:55:38.777171",
     "status": "completed"
    },
    "tags": []
   },
   "outputs": [
    {
     "name": "stdout",
     "output_type": "stream",
     "text": [
      "/kaggle/input/used-car-dataset-ford-and-mercedes/cclass.csv\n",
      "/kaggle/input/used-car-dataset-ford-and-mercedes/unclean cclass.csv\n",
      "/kaggle/input/used-car-dataset-ford-and-mercedes/focus.csv\n",
      "/kaggle/input/used-car-dataset-ford-and-mercedes/audi.csv\n",
      "/kaggle/input/used-car-dataset-ford-and-mercedes/toyota.csv\n",
      "/kaggle/input/used-car-dataset-ford-and-mercedes/skoda.csv\n",
      "/kaggle/input/used-car-dataset-ford-and-mercedes/ford.csv\n",
      "/kaggle/input/used-car-dataset-ford-and-mercedes/vauxhall.csv\n",
      "/kaggle/input/used-car-dataset-ford-and-mercedes/bmw.csv\n",
      "/kaggle/input/used-car-dataset-ford-and-mercedes/vw.csv\n",
      "/kaggle/input/used-car-dataset-ford-and-mercedes/hyundi.csv\n",
      "/kaggle/input/used-car-dataset-ford-and-mercedes/unclean focus.csv\n",
      "/kaggle/input/used-car-dataset-ford-and-mercedes/merc.csv\n"
     ]
    }
   ],
   "source": [
    "# This Python 3 environment comes with many helpful analytics libraries installed\n",
    "# It is defined by the kaggle/python Docker image: https://github.com/kaggle/docker-python\n",
    "# For example, here's several helpful packages to load\n",
    "\n",
    "import numpy as np # linear algebra\n",
    "import pandas as pd # data processing, CSV file I/O (e.g. pd.read_csv)\n",
    "\n",
    "# Input data files are available in the read-only \"../input/\" directory\n",
    "# For example, running this (by clicking run or pressing Shift+Enter) will list all files under the input directory\n",
    "\n",
    "import os\n",
    "for dirname, _, filenames in os.walk('/kaggle/input'):\n",
    "    for filename in filenames:\n",
    "        print(os.path.join(dirname, filename))\n",
    "\n",
    "# You can write up to 20GB to the current directory (/kaggle/working/) that gets preserved as output when you create a version using \"Save & Run All\" \n",
    "# You can also write temporary files to /kaggle/temp/, but they won't be saved outside of the current session"
   ]
  },
  {
   "cell_type": "markdown",
   "id": "wicked-hughes",
   "metadata": {
    "papermill": {
     "duration": 0.043511,
     "end_time": "2021-04-18T06:55:38.935974",
     "exception": false,
     "start_time": "2021-04-18T06:55:38.892463",
     "status": "completed"
    },
    "tags": []
   },
   "source": [
    "# **Load data**"
   ]
  },
  {
   "cell_type": "markdown",
   "id": "nearby-grove",
   "metadata": {
    "papermill": {
     "duration": 0.040462,
     "end_time": "2021-04-18T06:55:39.017682",
     "exception": false,
     "start_time": "2021-04-18T06:55:38.977220",
     "status": "completed"
    },
    "tags": []
   },
   "source": [
    "# we will take alook at individual data files and see that how many columns are there in every data file"
   ]
  },
  {
   "cell_type": "code",
   "execution_count": 2,
   "id": "regulated-directive",
   "metadata": {
    "execution": {
     "iopub.execute_input": "2021-04-18T06:55:39.106856Z",
     "iopub.status.busy": "2021-04-18T06:55:39.106101Z",
     "iopub.status.idle": "2021-04-18T06:55:39.179282Z",
     "shell.execute_reply": "2021-04-18T06:55:39.178682Z"
    },
    "papermill": {
     "duration": 0.119989,
     "end_time": "2021-04-18T06:55:39.179450",
     "exception": false,
     "start_time": "2021-04-18T06:55:39.059461",
     "status": "completed"
    },
    "tags": []
   },
   "outputs": [
    {
     "data": {
      "text/html": [
       "<div>\n",
       "<style scoped>\n",
       "    .dataframe tbody tr th:only-of-type {\n",
       "        vertical-align: middle;\n",
       "    }\n",
       "\n",
       "    .dataframe tbody tr th {\n",
       "        vertical-align: top;\n",
       "    }\n",
       "\n",
       "    .dataframe thead th {\n",
       "        text-align: right;\n",
       "    }\n",
       "</style>\n",
       "<table border=\"1\" class=\"dataframe\">\n",
       "  <thead>\n",
       "    <tr style=\"text-align: right;\">\n",
       "      <th></th>\n",
       "      <th>model</th>\n",
       "      <th>year</th>\n",
       "      <th>price</th>\n",
       "      <th>transmission</th>\n",
       "      <th>mileage</th>\n",
       "      <th>fuelType</th>\n",
       "      <th>tax</th>\n",
       "      <th>mpg</th>\n",
       "      <th>engineSize</th>\n",
       "    </tr>\n",
       "  </thead>\n",
       "  <tbody>\n",
       "    <tr>\n",
       "      <th>0</th>\n",
       "      <td>A1</td>\n",
       "      <td>2017</td>\n",
       "      <td>12500</td>\n",
       "      <td>Manual</td>\n",
       "      <td>15735</td>\n",
       "      <td>Petrol</td>\n",
       "      <td>150</td>\n",
       "      <td>55.4</td>\n",
       "      <td>1.4</td>\n",
       "    </tr>\n",
       "    <tr>\n",
       "      <th>1</th>\n",
       "      <td>A6</td>\n",
       "      <td>2016</td>\n",
       "      <td>16500</td>\n",
       "      <td>Automatic</td>\n",
       "      <td>36203</td>\n",
       "      <td>Diesel</td>\n",
       "      <td>20</td>\n",
       "      <td>64.2</td>\n",
       "      <td>2.0</td>\n",
       "    </tr>\n",
       "    <tr>\n",
       "      <th>2</th>\n",
       "      <td>A1</td>\n",
       "      <td>2016</td>\n",
       "      <td>11000</td>\n",
       "      <td>Manual</td>\n",
       "      <td>29946</td>\n",
       "      <td>Petrol</td>\n",
       "      <td>30</td>\n",
       "      <td>55.4</td>\n",
       "      <td>1.4</td>\n",
       "    </tr>\n",
       "    <tr>\n",
       "      <th>3</th>\n",
       "      <td>A4</td>\n",
       "      <td>2017</td>\n",
       "      <td>16800</td>\n",
       "      <td>Automatic</td>\n",
       "      <td>25952</td>\n",
       "      <td>Diesel</td>\n",
       "      <td>145</td>\n",
       "      <td>67.3</td>\n",
       "      <td>2.0</td>\n",
       "    </tr>\n",
       "    <tr>\n",
       "      <th>4</th>\n",
       "      <td>A3</td>\n",
       "      <td>2019</td>\n",
       "      <td>17300</td>\n",
       "      <td>Manual</td>\n",
       "      <td>1998</td>\n",
       "      <td>Petrol</td>\n",
       "      <td>145</td>\n",
       "      <td>49.6</td>\n",
       "      <td>1.0</td>\n",
       "    </tr>\n",
       "  </tbody>\n",
       "</table>\n",
       "</div>"
      ],
      "text/plain": [
       "  model  year  price transmission  mileage fuelType  tax   mpg  engineSize\n",
       "0    A1  2017  12500       Manual    15735   Petrol  150  55.4         1.4\n",
       "1    A6  2016  16500    Automatic    36203   Diesel   20  64.2         2.0\n",
       "2    A1  2016  11000       Manual    29946   Petrol   30  55.4         1.4\n",
       "3    A4  2017  16800    Automatic    25952   Diesel  145  67.3         2.0\n",
       "4    A3  2019  17300       Manual     1998   Petrol  145  49.6         1.0"
      ]
     },
     "execution_count": 2,
     "metadata": {},
     "output_type": "execute_result"
    }
   ],
   "source": [
    "audi= pd.read_csv(\"../input/used-car-dataset-ford-and-mercedes/audi.csv\")\n",
    "audi.head()"
   ]
  },
  {
   "cell_type": "code",
   "execution_count": 3,
   "id": "valuable-acrobat",
   "metadata": {
    "execution": {
     "iopub.execute_input": "2021-04-18T06:55:39.269762Z",
     "iopub.status.busy": "2021-04-18T06:55:39.269098Z",
     "iopub.status.idle": "2021-04-18T06:55:39.322397Z",
     "shell.execute_reply": "2021-04-18T06:55:39.321718Z"
    },
    "papermill": {
     "duration": 0.100601,
     "end_time": "2021-04-18T06:55:39.322531",
     "exception": false,
     "start_time": "2021-04-18T06:55:39.221930",
     "status": "completed"
    },
    "tags": []
   },
   "outputs": [
    {
     "data": {
      "text/html": [
       "<div>\n",
       "<style scoped>\n",
       "    .dataframe tbody tr th:only-of-type {\n",
       "        vertical-align: middle;\n",
       "    }\n",
       "\n",
       "    .dataframe tbody tr th {\n",
       "        vertical-align: top;\n",
       "    }\n",
       "\n",
       "    .dataframe thead th {\n",
       "        text-align: right;\n",
       "    }\n",
       "</style>\n",
       "<table border=\"1\" class=\"dataframe\">\n",
       "  <thead>\n",
       "    <tr style=\"text-align: right;\">\n",
       "      <th></th>\n",
       "      <th>model</th>\n",
       "      <th>year</th>\n",
       "      <th>price</th>\n",
       "      <th>transmission</th>\n",
       "      <th>mileage</th>\n",
       "      <th>fuelType</th>\n",
       "      <th>tax</th>\n",
       "      <th>mpg</th>\n",
       "      <th>engineSize</th>\n",
       "    </tr>\n",
       "  </thead>\n",
       "  <tbody>\n",
       "    <tr>\n",
       "      <th>0</th>\n",
       "      <td>5 Series</td>\n",
       "      <td>2014</td>\n",
       "      <td>11200</td>\n",
       "      <td>Automatic</td>\n",
       "      <td>67068</td>\n",
       "      <td>Diesel</td>\n",
       "      <td>125</td>\n",
       "      <td>57.6</td>\n",
       "      <td>2.0</td>\n",
       "    </tr>\n",
       "    <tr>\n",
       "      <th>1</th>\n",
       "      <td>6 Series</td>\n",
       "      <td>2018</td>\n",
       "      <td>27000</td>\n",
       "      <td>Automatic</td>\n",
       "      <td>14827</td>\n",
       "      <td>Petrol</td>\n",
       "      <td>145</td>\n",
       "      <td>42.8</td>\n",
       "      <td>2.0</td>\n",
       "    </tr>\n",
       "    <tr>\n",
       "      <th>2</th>\n",
       "      <td>5 Series</td>\n",
       "      <td>2016</td>\n",
       "      <td>16000</td>\n",
       "      <td>Automatic</td>\n",
       "      <td>62794</td>\n",
       "      <td>Diesel</td>\n",
       "      <td>160</td>\n",
       "      <td>51.4</td>\n",
       "      <td>3.0</td>\n",
       "    </tr>\n",
       "    <tr>\n",
       "      <th>3</th>\n",
       "      <td>1 Series</td>\n",
       "      <td>2017</td>\n",
       "      <td>12750</td>\n",
       "      <td>Automatic</td>\n",
       "      <td>26676</td>\n",
       "      <td>Diesel</td>\n",
       "      <td>145</td>\n",
       "      <td>72.4</td>\n",
       "      <td>1.5</td>\n",
       "    </tr>\n",
       "    <tr>\n",
       "      <th>4</th>\n",
       "      <td>7 Series</td>\n",
       "      <td>2014</td>\n",
       "      <td>14500</td>\n",
       "      <td>Automatic</td>\n",
       "      <td>39554</td>\n",
       "      <td>Diesel</td>\n",
       "      <td>160</td>\n",
       "      <td>50.4</td>\n",
       "      <td>3.0</td>\n",
       "    </tr>\n",
       "  </tbody>\n",
       "</table>\n",
       "</div>"
      ],
      "text/plain": [
       "       model  year  price transmission  mileage fuelType  tax   mpg  \\\n",
       "0   5 Series  2014  11200    Automatic    67068   Diesel  125  57.6   \n",
       "1   6 Series  2018  27000    Automatic    14827   Petrol  145  42.8   \n",
       "2   5 Series  2016  16000    Automatic    62794   Diesel  160  51.4   \n",
       "3   1 Series  2017  12750    Automatic    26676   Diesel  145  72.4   \n",
       "4   7 Series  2014  14500    Automatic    39554   Diesel  160  50.4   \n",
       "\n",
       "   engineSize  \n",
       "0         2.0  \n",
       "1         2.0  \n",
       "2         3.0  \n",
       "3         1.5  \n",
       "4         3.0  "
      ]
     },
     "execution_count": 3,
     "metadata": {},
     "output_type": "execute_result"
    }
   ],
   "source": [
    "bmw= pd.read_csv(\"../input/used-car-dataset-ford-and-mercedes/bmw.csv\")\n",
    "bmw.head()"
   ]
  },
  {
   "cell_type": "code",
   "execution_count": 4,
   "id": "greek-metadata",
   "metadata": {
    "execution": {
     "iopub.execute_input": "2021-04-18T06:55:39.412480Z",
     "iopub.status.busy": "2021-04-18T06:55:39.411875Z",
     "iopub.status.idle": "2021-04-18T06:55:39.458018Z",
     "shell.execute_reply": "2021-04-18T06:55:39.458533Z"
    },
    "papermill": {
     "duration": 0.093541,
     "end_time": "2021-04-18T06:55:39.458707",
     "exception": false,
     "start_time": "2021-04-18T06:55:39.365166",
     "status": "completed"
    },
    "tags": []
   },
   "outputs": [
    {
     "data": {
      "text/html": [
       "<div>\n",
       "<style scoped>\n",
       "    .dataframe tbody tr th:only-of-type {\n",
       "        vertical-align: middle;\n",
       "    }\n",
       "\n",
       "    .dataframe tbody tr th {\n",
       "        vertical-align: top;\n",
       "    }\n",
       "\n",
       "    .dataframe thead th {\n",
       "        text-align: right;\n",
       "    }\n",
       "</style>\n",
       "<table border=\"1\" class=\"dataframe\">\n",
       "  <thead>\n",
       "    <tr style=\"text-align: right;\">\n",
       "      <th></th>\n",
       "      <th>model</th>\n",
       "      <th>year</th>\n",
       "      <th>price</th>\n",
       "      <th>transmission</th>\n",
       "      <th>mileage</th>\n",
       "      <th>fuel type</th>\n",
       "      <th>engine size</th>\n",
       "      <th>mileage2</th>\n",
       "      <th>fuel type2</th>\n",
       "      <th>engine size2</th>\n",
       "      <th>reference</th>\n",
       "    </tr>\n",
       "  </thead>\n",
       "  <tbody>\n",
       "    <tr>\n",
       "      <th>0</th>\n",
       "      <td>C Class</td>\n",
       "      <td>2020.0</td>\n",
       "      <td>£30,495</td>\n",
       "      <td>Automatic</td>\n",
       "      <td>NaN</td>\n",
       "      <td>Diesel</td>\n",
       "      <td>2</td>\n",
       "      <td>1,200</td>\n",
       "      <td>NaN</td>\n",
       "      <td>NaN</td>\n",
       "      <td>/ad/25017331</td>\n",
       "    </tr>\n",
       "    <tr>\n",
       "      <th>1</th>\n",
       "      <td>C Class</td>\n",
       "      <td>2020.0</td>\n",
       "      <td>£29,989</td>\n",
       "      <td>Automatic</td>\n",
       "      <td>NaN</td>\n",
       "      <td>Petrol</td>\n",
       "      <td>1.5</td>\n",
       "      <td>1,000</td>\n",
       "      <td>NaN</td>\n",
       "      <td>NaN</td>\n",
       "      <td>/ad/25043746</td>\n",
       "    </tr>\n",
       "    <tr>\n",
       "      <th>2</th>\n",
       "      <td>C Class</td>\n",
       "      <td>2020.0</td>\n",
       "      <td>£37,899</td>\n",
       "      <td>Automatic</td>\n",
       "      <td>NaN</td>\n",
       "      <td>Diesel</td>\n",
       "      <td>2</td>\n",
       "      <td>500</td>\n",
       "      <td>NaN</td>\n",
       "      <td>NaN</td>\n",
       "      <td>/ad/25142894</td>\n",
       "    </tr>\n",
       "    <tr>\n",
       "      <th>3</th>\n",
       "      <td>C Class</td>\n",
       "      <td>2019.0</td>\n",
       "      <td>£30,399</td>\n",
       "      <td>Automatic</td>\n",
       "      <td>NaN</td>\n",
       "      <td>Diesel</td>\n",
       "      <td>2</td>\n",
       "      <td>5,000</td>\n",
       "      <td>NaN</td>\n",
       "      <td>NaN</td>\n",
       "      <td>/ad/24942816</td>\n",
       "    </tr>\n",
       "    <tr>\n",
       "      <th>4</th>\n",
       "      <td>C Class</td>\n",
       "      <td>2019.0</td>\n",
       "      <td>£29,899</td>\n",
       "      <td>Automatic</td>\n",
       "      <td>NaN</td>\n",
       "      <td>Diesel</td>\n",
       "      <td>2</td>\n",
       "      <td>4,500</td>\n",
       "      <td>NaN</td>\n",
       "      <td>NaN</td>\n",
       "      <td>/ad/24913660</td>\n",
       "    </tr>\n",
       "  </tbody>\n",
       "</table>\n",
       "</div>"
      ],
      "text/plain": [
       "      model    year     price transmission mileage fuel type engine size  \\\n",
       "0   C Class  2020.0   £30,495    Automatic     NaN    Diesel           2   \n",
       "1   C Class  2020.0   £29,989    Automatic     NaN    Petrol         1.5   \n",
       "2   C Class  2020.0   £37,899    Automatic     NaN    Diesel           2   \n",
       "3   C Class  2019.0   £30,399    Automatic     NaN    Diesel           2   \n",
       "4   C Class  2019.0   £29,899    Automatic     NaN    Diesel           2   \n",
       "\n",
       "  mileage2 fuel type2 engine size2     reference  \n",
       "0    1,200        NaN          NaN  /ad/25017331  \n",
       "1    1,000        NaN          NaN  /ad/25043746  \n",
       "2      500        NaN          NaN  /ad/25142894  \n",
       "3    5,000        NaN          NaN  /ad/24942816  \n",
       "4    4,500        NaN          NaN  /ad/24913660  "
      ]
     },
     "execution_count": 4,
     "metadata": {},
     "output_type": "execute_result"
    }
   ],
   "source": [
    "unclean_cclass= pd.read_csv(\"../input/used-car-dataset-ford-and-mercedes/unclean cclass.csv\")\n",
    "unclean_cclass.head()"
   ]
  },
  {
   "cell_type": "code",
   "execution_count": 5,
   "id": "amateur-mother",
   "metadata": {
    "execution": {
     "iopub.execute_input": "2021-04-18T06:55:39.550989Z",
     "iopub.status.busy": "2021-04-18T06:55:39.550286Z",
     "iopub.status.idle": "2021-04-18T06:55:39.580768Z",
     "shell.execute_reply": "2021-04-18T06:55:39.580181Z"
    },
    "papermill": {
     "duration": 0.078454,
     "end_time": "2021-04-18T06:55:39.580926",
     "exception": false,
     "start_time": "2021-04-18T06:55:39.502472",
     "status": "completed"
    },
    "tags": []
   },
   "outputs": [
    {
     "data": {
      "text/html": [
       "<div>\n",
       "<style scoped>\n",
       "    .dataframe tbody tr th:only-of-type {\n",
       "        vertical-align: middle;\n",
       "    }\n",
       "\n",
       "    .dataframe tbody tr th {\n",
       "        vertical-align: top;\n",
       "    }\n",
       "\n",
       "    .dataframe thead th {\n",
       "        text-align: right;\n",
       "    }\n",
       "</style>\n",
       "<table border=\"1\" class=\"dataframe\">\n",
       "  <thead>\n",
       "    <tr style=\"text-align: right;\">\n",
       "      <th></th>\n",
       "      <th>model</th>\n",
       "      <th>year</th>\n",
       "      <th>price</th>\n",
       "      <th>transmission</th>\n",
       "      <th>mileage</th>\n",
       "      <th>fuelType</th>\n",
       "      <th>engineSize</th>\n",
       "    </tr>\n",
       "  </thead>\n",
       "  <tbody>\n",
       "    <tr>\n",
       "      <th>0</th>\n",
       "      <td>C Class</td>\n",
       "      <td>2020</td>\n",
       "      <td>30495</td>\n",
       "      <td>Automatic</td>\n",
       "      <td>1200</td>\n",
       "      <td>Diesel</td>\n",
       "      <td>2.0</td>\n",
       "    </tr>\n",
       "    <tr>\n",
       "      <th>1</th>\n",
       "      <td>C Class</td>\n",
       "      <td>2020</td>\n",
       "      <td>29989</td>\n",
       "      <td>Automatic</td>\n",
       "      <td>1000</td>\n",
       "      <td>Petrol</td>\n",
       "      <td>1.5</td>\n",
       "    </tr>\n",
       "    <tr>\n",
       "      <th>2</th>\n",
       "      <td>C Class</td>\n",
       "      <td>2020</td>\n",
       "      <td>37899</td>\n",
       "      <td>Automatic</td>\n",
       "      <td>500</td>\n",
       "      <td>Diesel</td>\n",
       "      <td>2.0</td>\n",
       "    </tr>\n",
       "    <tr>\n",
       "      <th>3</th>\n",
       "      <td>C Class</td>\n",
       "      <td>2019</td>\n",
       "      <td>30399</td>\n",
       "      <td>Automatic</td>\n",
       "      <td>5000</td>\n",
       "      <td>Diesel</td>\n",
       "      <td>2.0</td>\n",
       "    </tr>\n",
       "    <tr>\n",
       "      <th>4</th>\n",
       "      <td>C Class</td>\n",
       "      <td>2019</td>\n",
       "      <td>29899</td>\n",
       "      <td>Automatic</td>\n",
       "      <td>4500</td>\n",
       "      <td>Diesel</td>\n",
       "      <td>2.0</td>\n",
       "    </tr>\n",
       "  </tbody>\n",
       "</table>\n",
       "</div>"
      ],
      "text/plain": [
       "      model  year  price transmission  mileage fuelType  engineSize\n",
       "0   C Class  2020  30495    Automatic     1200   Diesel         2.0\n",
       "1   C Class  2020  29989    Automatic     1000   Petrol         1.5\n",
       "2   C Class  2020  37899    Automatic      500   Diesel         2.0\n",
       "3   C Class  2019  30399    Automatic     5000   Diesel         2.0\n",
       "4   C Class  2019  29899    Automatic     4500   Diesel         2.0"
      ]
     },
     "execution_count": 5,
     "metadata": {},
     "output_type": "execute_result"
    }
   ],
   "source": [
    "cclass= pd.read_csv(\"../input/used-car-dataset-ford-and-mercedes/cclass.csv\")\n",
    "cclass.head()"
   ]
  },
  {
   "cell_type": "markdown",
   "id": "amber-treasury",
   "metadata": {
    "papermill": {
     "duration": 0.043951,
     "end_time": "2021-04-18T06:55:39.669537",
     "exception": false,
     "start_time": "2021-04-18T06:55:39.625586",
     "status": "completed"
    },
    "tags": []
   },
   "source": [
    "# we will see description of the numerical columns in cclass dataset"
   ]
  },
  {
   "cell_type": "code",
   "execution_count": 6,
   "id": "foreign-floating",
   "metadata": {
    "execution": {
     "iopub.execute_input": "2021-04-18T06:55:39.766677Z",
     "iopub.status.busy": "2021-04-18T06:55:39.762629Z",
     "iopub.status.idle": "2021-04-18T06:55:39.790791Z",
     "shell.execute_reply": "2021-04-18T06:55:39.790150Z"
    },
    "papermill": {
     "duration": 0.076536,
     "end_time": "2021-04-18T06:55:39.790942",
     "exception": false,
     "start_time": "2021-04-18T06:55:39.714406",
     "status": "completed"
    },
    "tags": []
   },
   "outputs": [
    {
     "data": {
      "text/html": [
       "<div>\n",
       "<style scoped>\n",
       "    .dataframe tbody tr th:only-of-type {\n",
       "        vertical-align: middle;\n",
       "    }\n",
       "\n",
       "    .dataframe tbody tr th {\n",
       "        vertical-align: top;\n",
       "    }\n",
       "\n",
       "    .dataframe thead th {\n",
       "        text-align: right;\n",
       "    }\n",
       "</style>\n",
       "<table border=\"1\" class=\"dataframe\">\n",
       "  <thead>\n",
       "    <tr style=\"text-align: right;\">\n",
       "      <th></th>\n",
       "      <th>count</th>\n",
       "      <th>mean</th>\n",
       "      <th>std</th>\n",
       "      <th>min</th>\n",
       "      <th>25%</th>\n",
       "      <th>50%</th>\n",
       "      <th>75%</th>\n",
       "      <th>max</th>\n",
       "    </tr>\n",
       "  </thead>\n",
       "  <tbody>\n",
       "    <tr>\n",
       "      <th>year</th>\n",
       "      <td>3899.0</td>\n",
       "      <td>2017.338548</td>\n",
       "      <td>2.213416</td>\n",
       "      <td>1991.0</td>\n",
       "      <td>2016.0</td>\n",
       "      <td>2018.0</td>\n",
       "      <td>2019.0</td>\n",
       "      <td>2020.0</td>\n",
       "    </tr>\n",
       "    <tr>\n",
       "      <th>price</th>\n",
       "      <td>3899.0</td>\n",
       "      <td>23674.286997</td>\n",
       "      <td>8960.218218</td>\n",
       "      <td>1290.0</td>\n",
       "      <td>17690.0</td>\n",
       "      <td>22980.0</td>\n",
       "      <td>28900.0</td>\n",
       "      <td>88995.0</td>\n",
       "    </tr>\n",
       "    <tr>\n",
       "      <th>mileage</th>\n",
       "      <td>3899.0</td>\n",
       "      <td>22395.709156</td>\n",
       "      <td>22630.438426</td>\n",
       "      <td>1.0</td>\n",
       "      <td>6000.0</td>\n",
       "      <td>14640.0</td>\n",
       "      <td>32458.5</td>\n",
       "      <td>173000.0</td>\n",
       "    </tr>\n",
       "    <tr>\n",
       "      <th>engineSize</th>\n",
       "      <td>3899.0</td>\n",
       "      <td>2.037394</td>\n",
       "      <td>0.487769</td>\n",
       "      <td>0.0</td>\n",
       "      <td>2.0</td>\n",
       "      <td>2.0</td>\n",
       "      <td>2.1</td>\n",
       "      <td>6.2</td>\n",
       "    </tr>\n",
       "  </tbody>\n",
       "</table>\n",
       "</div>"
      ],
      "text/plain": [
       "             count          mean           std     min      25%      50%  \\\n",
       "year        3899.0   2017.338548      2.213416  1991.0   2016.0   2018.0   \n",
       "price       3899.0  23674.286997   8960.218218  1290.0  17690.0  22980.0   \n",
       "mileage     3899.0  22395.709156  22630.438426     1.0   6000.0  14640.0   \n",
       "engineSize  3899.0      2.037394      0.487769     0.0      2.0      2.0   \n",
       "\n",
       "                75%       max  \n",
       "year         2019.0    2020.0  \n",
       "price       28900.0   88995.0  \n",
       "mileage     32458.5  173000.0  \n",
       "engineSize      2.1       6.2  "
      ]
     },
     "execution_count": 6,
     "metadata": {},
     "output_type": "execute_result"
    }
   ],
   "source": [
    "cclass.describe().T"
   ]
  },
  {
   "cell_type": "code",
   "execution_count": 7,
   "id": "humanitarian-plymouth",
   "metadata": {
    "execution": {
     "iopub.execute_input": "2021-04-18T06:55:39.899718Z",
     "iopub.status.busy": "2021-04-18T06:55:39.899063Z",
     "iopub.status.idle": "2021-04-18T06:55:39.903822Z",
     "shell.execute_reply": "2021-04-18T06:55:39.903266Z"
    },
    "papermill": {
     "duration": 0.067793,
     "end_time": "2021-04-18T06:55:39.903956",
     "exception": false,
     "start_time": "2021-04-18T06:55:39.836163",
     "status": "completed"
    },
    "tags": []
   },
   "outputs": [
    {
     "name": "stdout",
     "output_type": "stream",
     "text": [
      "<class 'pandas.core.frame.DataFrame'>\n",
      "RangeIndex: 3899 entries, 0 to 3898\n",
      "Data columns (total 7 columns):\n",
      " #   Column        Non-Null Count  Dtype  \n",
      "---  ------        --------------  -----  \n",
      " 0   model         3899 non-null   object \n",
      " 1   year          3899 non-null   int64  \n",
      " 2   price         3899 non-null   int64  \n",
      " 3   transmission  3899 non-null   object \n",
      " 4   mileage       3899 non-null   int64  \n",
      " 5   fuelType      3899 non-null   object \n",
      " 6   engineSize    3899 non-null   float64\n",
      "dtypes: float64(1), int64(3), object(3)\n",
      "memory usage: 213.4+ KB\n"
     ]
    }
   ],
   "source": [
    "cclass.info()"
   ]
  },
  {
   "cell_type": "code",
   "execution_count": 8,
   "id": "initial-amplifier",
   "metadata": {
    "execution": {
     "iopub.execute_input": "2021-04-18T06:55:40.002725Z",
     "iopub.status.busy": "2021-04-18T06:55:40.002019Z",
     "iopub.status.idle": "2021-04-18T06:55:40.033580Z",
     "shell.execute_reply": "2021-04-18T06:55:40.032940Z"
    },
    "papermill": {
     "duration": 0.083302,
     "end_time": "2021-04-18T06:55:40.033720",
     "exception": false,
     "start_time": "2021-04-18T06:55:39.950418",
     "status": "completed"
    },
    "tags": []
   },
   "outputs": [
    {
     "data": {
      "text/html": [
       "<div>\n",
       "<style scoped>\n",
       "    .dataframe tbody tr th:only-of-type {\n",
       "        vertical-align: middle;\n",
       "    }\n",
       "\n",
       "    .dataframe tbody tr th {\n",
       "        vertical-align: top;\n",
       "    }\n",
       "\n",
       "    .dataframe thead th {\n",
       "        text-align: right;\n",
       "    }\n",
       "</style>\n",
       "<table border=\"1\" class=\"dataframe\">\n",
       "  <thead>\n",
       "    <tr style=\"text-align: right;\">\n",
       "      <th></th>\n",
       "      <th>model</th>\n",
       "      <th>year</th>\n",
       "      <th>price</th>\n",
       "      <th>transmission</th>\n",
       "      <th>mileage</th>\n",
       "      <th>fuelType</th>\n",
       "      <th>engineSize</th>\n",
       "    </tr>\n",
       "  </thead>\n",
       "  <tbody>\n",
       "    <tr>\n",
       "      <th>0</th>\n",
       "      <td>Focus</td>\n",
       "      <td>2016</td>\n",
       "      <td>8000</td>\n",
       "      <td>Manual</td>\n",
       "      <td>38852</td>\n",
       "      <td>Petrol</td>\n",
       "      <td>1.0</td>\n",
       "    </tr>\n",
       "    <tr>\n",
       "      <th>1</th>\n",
       "      <td>Focus</td>\n",
       "      <td>2019</td>\n",
       "      <td>13400</td>\n",
       "      <td>Manual</td>\n",
       "      <td>11952</td>\n",
       "      <td>Petrol</td>\n",
       "      <td>1.0</td>\n",
       "    </tr>\n",
       "    <tr>\n",
       "      <th>2</th>\n",
       "      <td>Focus</td>\n",
       "      <td>2019</td>\n",
       "      <td>14600</td>\n",
       "      <td>Manual</td>\n",
       "      <td>22142</td>\n",
       "      <td>Petrol</td>\n",
       "      <td>1.5</td>\n",
       "    </tr>\n",
       "    <tr>\n",
       "      <th>3</th>\n",
       "      <td>Focus</td>\n",
       "      <td>2016</td>\n",
       "      <td>9450</td>\n",
       "      <td>Manual</td>\n",
       "      <td>14549</td>\n",
       "      <td>Diesel</td>\n",
       "      <td>1.6</td>\n",
       "    </tr>\n",
       "    <tr>\n",
       "      <th>4</th>\n",
       "      <td>Focus</td>\n",
       "      <td>2015</td>\n",
       "      <td>9999</td>\n",
       "      <td>Manual</td>\n",
       "      <td>7010</td>\n",
       "      <td>Diesel</td>\n",
       "      <td>1.6</td>\n",
       "    </tr>\n",
       "  </tbody>\n",
       "</table>\n",
       "</div>"
      ],
      "text/plain": [
       "    model  year  price transmission  mileage fuelType  engineSize\n",
       "0   Focus  2016   8000       Manual    38852   Petrol         1.0\n",
       "1   Focus  2019  13400       Manual    11952   Petrol         1.0\n",
       "2   Focus  2019  14600       Manual    22142   Petrol         1.5\n",
       "3   Focus  2016   9450       Manual    14549   Diesel         1.6\n",
       "4   Focus  2015   9999       Manual     7010   Diesel         1.6"
      ]
     },
     "execution_count": 8,
     "metadata": {},
     "output_type": "execute_result"
    }
   ],
   "source": [
    "focus= pd.read_csv(\"../input/used-car-dataset-ford-and-mercedes/focus.csv\")\n",
    "focus.head()"
   ]
  },
  {
   "cell_type": "code",
   "execution_count": 9,
   "id": "mighty-screw",
   "metadata": {
    "execution": {
     "iopub.execute_input": "2021-04-18T06:55:40.130620Z",
     "iopub.status.busy": "2021-04-18T06:55:40.129969Z",
     "iopub.status.idle": "2021-04-18T06:55:40.189224Z",
     "shell.execute_reply": "2021-04-18T06:55:40.188738Z"
    },
    "papermill": {
     "duration": 0.109508,
     "end_time": "2021-04-18T06:55:40.189459",
     "exception": false,
     "start_time": "2021-04-18T06:55:40.079951",
     "status": "completed"
    },
    "tags": []
   },
   "outputs": [
    {
     "data": {
      "text/html": [
       "<div>\n",
       "<style scoped>\n",
       "    .dataframe tbody tr th:only-of-type {\n",
       "        vertical-align: middle;\n",
       "    }\n",
       "\n",
       "    .dataframe tbody tr th {\n",
       "        vertical-align: top;\n",
       "    }\n",
       "\n",
       "    .dataframe thead th {\n",
       "        text-align: right;\n",
       "    }\n",
       "</style>\n",
       "<table border=\"1\" class=\"dataframe\">\n",
       "  <thead>\n",
       "    <tr style=\"text-align: right;\">\n",
       "      <th></th>\n",
       "      <th>model</th>\n",
       "      <th>year</th>\n",
       "      <th>price</th>\n",
       "      <th>transmission</th>\n",
       "      <th>mileage</th>\n",
       "      <th>fuelType</th>\n",
       "      <th>tax</th>\n",
       "      <th>mpg</th>\n",
       "      <th>engineSize</th>\n",
       "    </tr>\n",
       "  </thead>\n",
       "  <tbody>\n",
       "    <tr>\n",
       "      <th>0</th>\n",
       "      <td>Fiesta</td>\n",
       "      <td>2017</td>\n",
       "      <td>12000</td>\n",
       "      <td>Automatic</td>\n",
       "      <td>15944</td>\n",
       "      <td>Petrol</td>\n",
       "      <td>150</td>\n",
       "      <td>57.7</td>\n",
       "      <td>1.0</td>\n",
       "    </tr>\n",
       "    <tr>\n",
       "      <th>1</th>\n",
       "      <td>Focus</td>\n",
       "      <td>2018</td>\n",
       "      <td>14000</td>\n",
       "      <td>Manual</td>\n",
       "      <td>9083</td>\n",
       "      <td>Petrol</td>\n",
       "      <td>150</td>\n",
       "      <td>57.7</td>\n",
       "      <td>1.0</td>\n",
       "    </tr>\n",
       "    <tr>\n",
       "      <th>2</th>\n",
       "      <td>Focus</td>\n",
       "      <td>2017</td>\n",
       "      <td>13000</td>\n",
       "      <td>Manual</td>\n",
       "      <td>12456</td>\n",
       "      <td>Petrol</td>\n",
       "      <td>150</td>\n",
       "      <td>57.7</td>\n",
       "      <td>1.0</td>\n",
       "    </tr>\n",
       "    <tr>\n",
       "      <th>3</th>\n",
       "      <td>Fiesta</td>\n",
       "      <td>2019</td>\n",
       "      <td>17500</td>\n",
       "      <td>Manual</td>\n",
       "      <td>10460</td>\n",
       "      <td>Petrol</td>\n",
       "      <td>145</td>\n",
       "      <td>40.3</td>\n",
       "      <td>1.5</td>\n",
       "    </tr>\n",
       "    <tr>\n",
       "      <th>4</th>\n",
       "      <td>Fiesta</td>\n",
       "      <td>2019</td>\n",
       "      <td>16500</td>\n",
       "      <td>Automatic</td>\n",
       "      <td>1482</td>\n",
       "      <td>Petrol</td>\n",
       "      <td>145</td>\n",
       "      <td>48.7</td>\n",
       "      <td>1.0</td>\n",
       "    </tr>\n",
       "  </tbody>\n",
       "</table>\n",
       "</div>"
      ],
      "text/plain": [
       "     model  year  price transmission  mileage fuelType  tax   mpg  engineSize\n",
       "0   Fiesta  2017  12000    Automatic    15944   Petrol  150  57.7         1.0\n",
       "1    Focus  2018  14000       Manual     9083   Petrol  150  57.7         1.0\n",
       "2    Focus  2017  13000       Manual    12456   Petrol  150  57.7         1.0\n",
       "3   Fiesta  2019  17500       Manual    10460   Petrol  145  40.3         1.5\n",
       "4   Fiesta  2019  16500    Automatic     1482   Petrol  145  48.7         1.0"
      ]
     },
     "execution_count": 9,
     "metadata": {},
     "output_type": "execute_result"
    }
   ],
   "source": [
    "ford= pd.read_csv(\"../input/used-car-dataset-ford-and-mercedes/ford.csv\")\n",
    "ford.head()"
   ]
  },
  {
   "cell_type": "markdown",
   "id": "natural-penny",
   "metadata": {
    "papermill": {
     "duration": 0.046266,
     "end_time": "2021-04-18T06:55:40.283159",
     "exception": false,
     "start_time": "2021-04-18T06:55:40.236893",
     "status": "completed"
    },
    "tags": []
   },
   "source": [
    "# **collect all file paths**"
   ]
  },
  {
   "cell_type": "code",
   "execution_count": 10,
   "id": "phantom-circus",
   "metadata": {
    "execution": {
     "iopub.execute_input": "2021-04-18T06:55:40.382563Z",
     "iopub.status.busy": "2021-04-18T06:55:40.381545Z",
     "iopub.status.idle": "2021-04-18T06:55:40.385219Z",
     "shell.execute_reply": "2021-04-18T06:55:40.385860Z"
    },
    "papermill": {
     "duration": 0.056224,
     "end_time": "2021-04-18T06:55:40.386028",
     "exception": false,
     "start_time": "2021-04-18T06:55:40.329804",
     "status": "completed"
    },
    "tags": []
   },
   "outputs": [
    {
     "name": "stdout",
     "output_type": "stream",
     "text": [
      "['../input/used-car-dataset-ford-and-mercedes/cclass.csv', '../input/used-car-dataset-ford-and-mercedes/unclean cclass.csv', '../input/used-car-dataset-ford-and-mercedes/focus.csv', '../input/used-car-dataset-ford-and-mercedes/audi.csv', '../input/used-car-dataset-ford-and-mercedes/toyota.csv', '../input/used-car-dataset-ford-and-mercedes/skoda.csv', '../input/used-car-dataset-ford-and-mercedes/ford.csv', '../input/used-car-dataset-ford-and-mercedes/vauxhall.csv', '../input/used-car-dataset-ford-and-mercedes/bmw.csv', '../input/used-car-dataset-ford-and-mercedes/vw.csv', '../input/used-car-dataset-ford-and-mercedes/hyundi.csv', '../input/used-car-dataset-ford-and-mercedes/unclean focus.csv', '../input/used-car-dataset-ford-and-mercedes/merc.csv']\n"
     ]
    }
   ],
   "source": [
    "path= \"../input/used-car-dataset-ford-and-mercedes\"\n",
    "paths=[]\n",
    "for file in os.listdir(path):\n",
    "    paths.append(os.path.join(path, file))\n",
    "print(paths)  # paths contrains the path to all the input files\n",
    "    "
   ]
  },
  {
   "cell_type": "code",
   "execution_count": 11,
   "id": "hawaiian-communication",
   "metadata": {
    "execution": {
     "iopub.execute_input": "2021-04-18T06:55:40.486141Z",
     "iopub.status.busy": "2021-04-18T06:55:40.485148Z",
     "iopub.status.idle": "2021-04-18T06:55:40.489643Z",
     "shell.execute_reply": "2021-04-18T06:55:40.489025Z"
    },
    "papermill": {
     "duration": 0.056519,
     "end_time": "2021-04-18T06:55:40.489777",
     "exception": false,
     "start_time": "2021-04-18T06:55:40.433258",
     "status": "completed"
    },
    "tags": []
   },
   "outputs": [
    {
     "data": {
      "text/plain": [
       "['../input/used-car-dataset-ford-and-mercedes/cclass.csv',\n",
       " '../input/used-car-dataset-ford-and-mercedes/focus.csv',\n",
       " '../input/used-car-dataset-ford-and-mercedes/audi.csv',\n",
       " '../input/used-car-dataset-ford-and-mercedes/toyota.csv',\n",
       " '../input/used-car-dataset-ford-and-mercedes/skoda.csv',\n",
       " '../input/used-car-dataset-ford-and-mercedes/ford.csv',\n",
       " '../input/used-car-dataset-ford-and-mercedes/vauxhall.csv',\n",
       " '../input/used-car-dataset-ford-and-mercedes/bmw.csv',\n",
       " '../input/used-car-dataset-ford-and-mercedes/vw.csv',\n",
       " '../input/used-car-dataset-ford-and-mercedes/hyundi.csv',\n",
       " '../input/used-car-dataset-ford-and-mercedes/unclean focus.csv',\n",
       " '../input/used-car-dataset-ford-and-mercedes/merc.csv']"
      ]
     },
     "execution_count": 11,
     "metadata": {},
     "output_type": "execute_result"
    }
   ],
   "source": [
    "paths.pop(1)  # we will remove the uncleaned data file paths from the paths list e.g. unclean cclass\n",
    "paths"
   ]
  },
  {
   "cell_type": "code",
   "execution_count": 12,
   "id": "marked-seeker",
   "metadata": {
    "execution": {
     "iopub.execute_input": "2021-04-18T06:55:40.591249Z",
     "iopub.status.busy": "2021-04-18T06:55:40.590397Z",
     "iopub.status.idle": "2021-04-18T06:55:40.594495Z",
     "shell.execute_reply": "2021-04-18T06:55:40.593886Z"
    },
    "papermill": {
     "duration": 0.056978,
     "end_time": "2021-04-18T06:55:40.594638",
     "exception": false,
     "start_time": "2021-04-18T06:55:40.537660",
     "status": "completed"
    },
    "tags": []
   },
   "outputs": [
    {
     "data": {
      "text/plain": [
       "['../input/used-car-dataset-ford-and-mercedes/cclass.csv',\n",
       " '../input/used-car-dataset-ford-and-mercedes/focus.csv',\n",
       " '../input/used-car-dataset-ford-and-mercedes/audi.csv',\n",
       " '../input/used-car-dataset-ford-and-mercedes/toyota.csv',\n",
       " '../input/used-car-dataset-ford-and-mercedes/skoda.csv',\n",
       " '../input/used-car-dataset-ford-and-mercedes/ford.csv',\n",
       " '../input/used-car-dataset-ford-and-mercedes/vauxhall.csv',\n",
       " '../input/used-car-dataset-ford-and-mercedes/bmw.csv',\n",
       " '../input/used-car-dataset-ford-and-mercedes/vw.csv',\n",
       " '../input/used-car-dataset-ford-and-mercedes/hyundi.csv',\n",
       " '../input/used-car-dataset-ford-and-mercedes/merc.csv']"
      ]
     },
     "execution_count": 12,
     "metadata": {},
     "output_type": "execute_result"
    }
   ],
   "source": [
    "paths.pop(-2)  # we will remove the uncleaned data file paths from the paths list e.g. unclean focus\n",
    "paths"
   ]
  },
  {
   "cell_type": "code",
   "execution_count": 13,
   "id": "according-course",
   "metadata": {
    "execution": {
     "iopub.execute_input": "2021-04-18T06:55:40.696166Z",
     "iopub.status.busy": "2021-04-18T06:55:40.695483Z",
     "iopub.status.idle": "2021-04-18T06:55:40.979764Z",
     "shell.execute_reply": "2021-04-18T06:55:40.980209Z"
    },
    "papermill": {
     "duration": 0.337666,
     "end_time": "2021-04-18T06:55:40.980419",
     "exception": false,
     "start_time": "2021-04-18T06:55:40.642753",
     "status": "completed"
    },
    "tags": []
   },
   "outputs": [
    {
     "data": {
      "text/html": [
       "<div>\n",
       "<style scoped>\n",
       "    .dataframe tbody tr th:only-of-type {\n",
       "        vertical-align: middle;\n",
       "    }\n",
       "\n",
       "    .dataframe tbody tr th {\n",
       "        vertical-align: top;\n",
       "    }\n",
       "\n",
       "    .dataframe thead th {\n",
       "        text-align: right;\n",
       "    }\n",
       "</style>\n",
       "<table border=\"1\" class=\"dataframe\">\n",
       "  <thead>\n",
       "    <tr style=\"text-align: right;\">\n",
       "      <th></th>\n",
       "      <th>model</th>\n",
       "      <th>year</th>\n",
       "      <th>price</th>\n",
       "      <th>transmission</th>\n",
       "      <th>mileage</th>\n",
       "      <th>fuelType</th>\n",
       "      <th>engineSize</th>\n",
       "    </tr>\n",
       "  </thead>\n",
       "  <tbody>\n",
       "    <tr>\n",
       "      <th>0</th>\n",
       "      <td>Focus</td>\n",
       "      <td>2016</td>\n",
       "      <td>8000</td>\n",
       "      <td>Manual</td>\n",
       "      <td>38852</td>\n",
       "      <td>Petrol</td>\n",
       "      <td>1.0</td>\n",
       "    </tr>\n",
       "    <tr>\n",
       "      <th>1</th>\n",
       "      <td>Focus</td>\n",
       "      <td>2019</td>\n",
       "      <td>13400</td>\n",
       "      <td>Manual</td>\n",
       "      <td>11952</td>\n",
       "      <td>Petrol</td>\n",
       "      <td>1.0</td>\n",
       "    </tr>\n",
       "    <tr>\n",
       "      <th>2</th>\n",
       "      <td>Focus</td>\n",
       "      <td>2019</td>\n",
       "      <td>14600</td>\n",
       "      <td>Manual</td>\n",
       "      <td>22142</td>\n",
       "      <td>Petrol</td>\n",
       "      <td>1.5</td>\n",
       "    </tr>\n",
       "    <tr>\n",
       "      <th>3</th>\n",
       "      <td>Focus</td>\n",
       "      <td>2016</td>\n",
       "      <td>9450</td>\n",
       "      <td>Manual</td>\n",
       "      <td>14549</td>\n",
       "      <td>Diesel</td>\n",
       "      <td>1.6</td>\n",
       "    </tr>\n",
       "    <tr>\n",
       "      <th>4</th>\n",
       "      <td>Focus</td>\n",
       "      <td>2015</td>\n",
       "      <td>9999</td>\n",
       "      <td>Manual</td>\n",
       "      <td>7010</td>\n",
       "      <td>Diesel</td>\n",
       "      <td>1.6</td>\n",
       "    </tr>\n",
       "    <tr>\n",
       "      <th>...</th>\n",
       "      <td>...</td>\n",
       "      <td>...</td>\n",
       "      <td>...</td>\n",
       "      <td>...</td>\n",
       "      <td>...</td>\n",
       "      <td>...</td>\n",
       "      <td>...</td>\n",
       "    </tr>\n",
       "    <tr>\n",
       "      <th>5449</th>\n",
       "      <td>Focus</td>\n",
       "      <td>2019</td>\n",
       "      <td>18745</td>\n",
       "      <td>Manual</td>\n",
       "      <td>7855</td>\n",
       "      <td>Diesel</td>\n",
       "      <td>2.0</td>\n",
       "    </tr>\n",
       "    <tr>\n",
       "      <th>5450</th>\n",
       "      <td>Focus</td>\n",
       "      <td>2019</td>\n",
       "      <td>16350</td>\n",
       "      <td>Manual</td>\n",
       "      <td>13891</td>\n",
       "      <td>Petrol</td>\n",
       "      <td>1.0</td>\n",
       "    </tr>\n",
       "    <tr>\n",
       "      <th>5451</th>\n",
       "      <td>Focus</td>\n",
       "      <td>2019</td>\n",
       "      <td>16850</td>\n",
       "      <td>Manual</td>\n",
       "      <td>13452</td>\n",
       "      <td>Petrol</td>\n",
       "      <td>1.0</td>\n",
       "    </tr>\n",
       "    <tr>\n",
       "      <th>5452</th>\n",
       "      <td>Focus</td>\n",
       "      <td>2019</td>\n",
       "      <td>17310</td>\n",
       "      <td>Automatic</td>\n",
       "      <td>13376</td>\n",
       "      <td>Petrol</td>\n",
       "      <td>1.0</td>\n",
       "    </tr>\n",
       "    <tr>\n",
       "      <th>5453</th>\n",
       "      <td>Focus</td>\n",
       "      <td>2019</td>\n",
       "      <td>17610</td>\n",
       "      <td>Automatic</td>\n",
       "      <td>7886</td>\n",
       "      <td>Petrol</td>\n",
       "      <td>1.0</td>\n",
       "    </tr>\n",
       "  </tbody>\n",
       "</table>\n",
       "<p>5454 rows × 7 columns</p>\n",
       "</div>"
      ],
      "text/plain": [
       "       model  year  price transmission  mileage fuelType  engineSize\n",
       "0      Focus  2016   8000       Manual    38852   Petrol         1.0\n",
       "1      Focus  2019  13400       Manual    11952   Petrol         1.0\n",
       "2      Focus  2019  14600       Manual    22142   Petrol         1.5\n",
       "3      Focus  2016   9450       Manual    14549   Diesel         1.6\n",
       "4      Focus  2015   9999       Manual     7010   Diesel         1.6\n",
       "...      ...   ...    ...          ...      ...      ...         ...\n",
       "5449   Focus  2019  18745       Manual     7855   Diesel         2.0\n",
       "5450   Focus  2019  16350       Manual    13891   Petrol         1.0\n",
       "5451   Focus  2019  16850       Manual    13452   Petrol         1.0\n",
       "5452   Focus  2019  17310    Automatic    13376   Petrol         1.0\n",
       "5453   Focus  2019  17610    Automatic     7886   Petrol         1.0\n",
       "\n",
       "[5454 rows x 7 columns]"
      ]
     },
     "execution_count": 13,
     "metadata": {},
     "output_type": "execute_result"
    }
   ],
   "source": [
    "data= []  # empty list to collect the dataframe of all the cars data\n",
    "for path in paths:\n",
    "    d= pd.read_csv(path)\n",
    "    data.append(d)\n",
    "    #print(data)\n",
    "    \n",
    "data[1]\n",
    "    "
   ]
  },
  {
   "cell_type": "markdown",
   "id": "intimate-disaster",
   "metadata": {
    "papermill": {
     "duration": 0.048656,
     "end_time": "2021-04-18T06:55:41.079162",
     "exception": false,
     "start_time": "2021-04-18T06:55:41.030506",
     "status": "completed"
    },
    "tags": []
   },
   "source": [
    "# **concatenating all the cars data from data list**"
   ]
  },
  {
   "cell_type": "code",
   "execution_count": 14,
   "id": "looking-throat",
   "metadata": {
    "execution": {
     "iopub.execute_input": "2021-04-18T06:55:41.180080Z",
     "iopub.status.busy": "2021-04-18T06:55:41.179422Z",
     "iopub.status.idle": "2021-04-18T06:55:41.211484Z",
     "shell.execute_reply": "2021-04-18T06:55:41.210949Z"
    },
    "papermill": {
     "duration": 0.083693,
     "end_time": "2021-04-18T06:55:41.211628",
     "exception": false,
     "start_time": "2021-04-18T06:55:41.127935",
     "status": "completed"
    },
    "tags": []
   },
   "outputs": [
    {
     "data": {
      "text/plain": [
       "(108540, 10)"
      ]
     },
     "execution_count": 14,
     "metadata": {},
     "output_type": "execute_result"
    }
   ],
   "source": [
    "car_data= pd.concat(data, ignore_index=True )\n",
    "car_data.shape"
   ]
  },
  {
   "cell_type": "code",
   "execution_count": 15,
   "id": "gorgeous-manufacturer",
   "metadata": {
    "execution": {
     "iopub.execute_input": "2021-04-18T06:55:41.324855Z",
     "iopub.status.busy": "2021-04-18T06:55:41.318978Z",
     "iopub.status.idle": "2021-04-18T06:55:41.329478Z",
     "shell.execute_reply": "2021-04-18T06:55:41.328952Z"
    },
    "papermill": {
     "duration": 0.068544,
     "end_time": "2021-04-18T06:55:41.329620",
     "exception": false,
     "start_time": "2021-04-18T06:55:41.261076",
     "status": "completed"
    },
    "tags": []
   },
   "outputs": [
    {
     "data": {
      "text/html": [
       "<div>\n",
       "<style scoped>\n",
       "    .dataframe tbody tr th:only-of-type {\n",
       "        vertical-align: middle;\n",
       "    }\n",
       "\n",
       "    .dataframe tbody tr th {\n",
       "        vertical-align: top;\n",
       "    }\n",
       "\n",
       "    .dataframe thead th {\n",
       "        text-align: right;\n",
       "    }\n",
       "</style>\n",
       "<table border=\"1\" class=\"dataframe\">\n",
       "  <thead>\n",
       "    <tr style=\"text-align: right;\">\n",
       "      <th></th>\n",
       "      <th>model</th>\n",
       "      <th>year</th>\n",
       "      <th>price</th>\n",
       "      <th>transmission</th>\n",
       "      <th>mileage</th>\n",
       "      <th>fuelType</th>\n",
       "      <th>engineSize</th>\n",
       "      <th>tax</th>\n",
       "      <th>mpg</th>\n",
       "      <th>tax(£)</th>\n",
       "    </tr>\n",
       "  </thead>\n",
       "  <tbody>\n",
       "    <tr>\n",
       "      <th>0</th>\n",
       "      <td>C Class</td>\n",
       "      <td>2020</td>\n",
       "      <td>30495</td>\n",
       "      <td>Automatic</td>\n",
       "      <td>1200</td>\n",
       "      <td>Diesel</td>\n",
       "      <td>2.0</td>\n",
       "      <td>NaN</td>\n",
       "      <td>NaN</td>\n",
       "      <td>NaN</td>\n",
       "    </tr>\n",
       "    <tr>\n",
       "      <th>1</th>\n",
       "      <td>C Class</td>\n",
       "      <td>2020</td>\n",
       "      <td>29989</td>\n",
       "      <td>Automatic</td>\n",
       "      <td>1000</td>\n",
       "      <td>Petrol</td>\n",
       "      <td>1.5</td>\n",
       "      <td>NaN</td>\n",
       "      <td>NaN</td>\n",
       "      <td>NaN</td>\n",
       "    </tr>\n",
       "    <tr>\n",
       "      <th>2</th>\n",
       "      <td>C Class</td>\n",
       "      <td>2020</td>\n",
       "      <td>37899</td>\n",
       "      <td>Automatic</td>\n",
       "      <td>500</td>\n",
       "      <td>Diesel</td>\n",
       "      <td>2.0</td>\n",
       "      <td>NaN</td>\n",
       "      <td>NaN</td>\n",
       "      <td>NaN</td>\n",
       "    </tr>\n",
       "    <tr>\n",
       "      <th>3</th>\n",
       "      <td>C Class</td>\n",
       "      <td>2019</td>\n",
       "      <td>30399</td>\n",
       "      <td>Automatic</td>\n",
       "      <td>5000</td>\n",
       "      <td>Diesel</td>\n",
       "      <td>2.0</td>\n",
       "      <td>NaN</td>\n",
       "      <td>NaN</td>\n",
       "      <td>NaN</td>\n",
       "    </tr>\n",
       "    <tr>\n",
       "      <th>4</th>\n",
       "      <td>C Class</td>\n",
       "      <td>2019</td>\n",
       "      <td>29899</td>\n",
       "      <td>Automatic</td>\n",
       "      <td>4500</td>\n",
       "      <td>Diesel</td>\n",
       "      <td>2.0</td>\n",
       "      <td>NaN</td>\n",
       "      <td>NaN</td>\n",
       "      <td>NaN</td>\n",
       "    </tr>\n",
       "  </tbody>\n",
       "</table>\n",
       "</div>"
      ],
      "text/plain": [
       "      model  year  price transmission  mileage fuelType  engineSize  tax  mpg  \\\n",
       "0   C Class  2020  30495    Automatic     1200   Diesel         2.0  NaN  NaN   \n",
       "1   C Class  2020  29989    Automatic     1000   Petrol         1.5  NaN  NaN   \n",
       "2   C Class  2020  37899    Automatic      500   Diesel         2.0  NaN  NaN   \n",
       "3   C Class  2019  30399    Automatic     5000   Diesel         2.0  NaN  NaN   \n",
       "4   C Class  2019  29899    Automatic     4500   Diesel         2.0  NaN  NaN   \n",
       "\n",
       "   tax(£)  \n",
       "0     NaN  \n",
       "1     NaN  \n",
       "2     NaN  \n",
       "3     NaN  \n",
       "4     NaN  "
      ]
     },
     "execution_count": 15,
     "metadata": {},
     "output_type": "execute_result"
    }
   ],
   "source": [
    "car_data.head()"
   ]
  },
  {
   "cell_type": "code",
   "execution_count": 16,
   "id": "inclusive-brighton",
   "metadata": {
    "execution": {
     "iopub.execute_input": "2021-04-18T06:55:41.458480Z",
     "iopub.status.busy": "2021-04-18T06:55:41.457533Z",
     "iopub.status.idle": "2021-04-18T06:55:41.462432Z",
     "shell.execute_reply": "2021-04-18T06:55:41.462956Z"
    },
    "papermill": {
     "duration": 0.083605,
     "end_time": "2021-04-18T06:55:41.463122",
     "exception": false,
     "start_time": "2021-04-18T06:55:41.379517",
     "status": "completed"
    },
    "tags": []
   },
   "outputs": [
    {
     "name": "stdout",
     "output_type": "stream",
     "text": [
      "195\n"
     ]
    }
   ],
   "source": [
    "models= car_data.model.value_counts().count()  # number of different models in dataset\n",
    "print(models)"
   ]
  },
  {
   "cell_type": "markdown",
   "id": "weekly-tamil",
   "metadata": {
    "papermill": {
     "duration": 0.05031,
     "end_time": "2021-04-18T06:55:41.564092",
     "exception": false,
     "start_time": "2021-04-18T06:55:41.513782",
     "status": "completed"
    },
    "tags": []
   },
   "source": [
    "# **missing values**"
   ]
  },
  {
   "cell_type": "code",
   "execution_count": 17,
   "id": "brave-utilization",
   "metadata": {
    "execution": {
     "iopub.execute_input": "2021-04-18T06:55:41.672290Z",
     "iopub.status.busy": "2021-04-18T06:55:41.671539Z",
     "iopub.status.idle": "2021-04-18T06:55:43.777113Z",
     "shell.execute_reply": "2021-04-18T06:55:43.777600Z"
    },
    "papermill": {
     "duration": 2.162838,
     "end_time": "2021-04-18T06:55:43.777774",
     "exception": false,
     "start_time": "2021-04-18T06:55:41.614936",
     "status": "completed"
    },
    "tags": []
   },
   "outputs": [
    {
     "data": {
      "text/plain": [
       "<AxesSubplot:>"
      ]
     },
     "execution_count": 17,
     "metadata": {},
     "output_type": "execute_result"
    },
    {
     "data": {
      "image/png": "[encoded data removed]",
      "text/plain": [
       "<Figure size 864x576 with 2 Axes>"
      ]
     },
     "metadata": {
      "needs_background": "light"
     },
     "output_type": "display_data"
    }
   ],
   "source": [
    "import seaborn as sns\n",
    "import matplotlib.pyplot as plt\n",
    "plt.figure(figsize=(12,8))\n",
    "\n",
    "sns.heatmap(car_data.isnull(), yticklabels=False)  # show the heatmap with the null values shown as 1 and nonnull as 0"
   ]
  },
  {
   "cell_type": "markdown",
   "id": "african-matrix",
   "metadata": {
    "papermill": {
     "duration": 0.053027,
     "end_time": "2021-04-18T06:55:43.883463",
     "exception": false,
     "start_time": "2021-04-18T06:55:43.830436",
     "status": "completed"
    },
    "tags": []
   },
   "source": [
    "1. large number of null values in last column so we have to remove this\n",
    "2. tax and mpg columns have small number of null value so we will try to impute this with proper strategy"
   ]
  },
  {
   "cell_type": "code",
   "execution_count": 18,
   "id": "worse-vaccine",
   "metadata": {
    "execution": {
     "iopub.execute_input": "2021-04-18T06:55:43.993654Z",
     "iopub.status.busy": "2021-04-18T06:55:43.992960Z",
     "iopub.status.idle": "2021-04-18T06:55:44.016133Z",
     "shell.execute_reply": "2021-04-18T06:55:44.015638Z"
    },
    "papermill": {
     "duration": 0.079877,
     "end_time": "2021-04-18T06:55:44.016268",
     "exception": false,
     "start_time": "2021-04-18T06:55:43.936391",
     "status": "completed"
    },
    "tags": []
   },
   "outputs": [
    {
     "data": {
      "text/html": [
       "<div>\n",
       "<style scoped>\n",
       "    .dataframe tbody tr th:only-of-type {\n",
       "        vertical-align: middle;\n",
       "    }\n",
       "\n",
       "    .dataframe tbody tr th {\n",
       "        vertical-align: top;\n",
       "    }\n",
       "\n",
       "    .dataframe thead th {\n",
       "        text-align: right;\n",
       "    }\n",
       "</style>\n",
       "<table border=\"1\" class=\"dataframe\">\n",
       "  <thead>\n",
       "    <tr style=\"text-align: right;\">\n",
       "      <th></th>\n",
       "      <th>model</th>\n",
       "      <th>year</th>\n",
       "      <th>price</th>\n",
       "      <th>transmission</th>\n",
       "      <th>mileage</th>\n",
       "      <th>fuelType</th>\n",
       "      <th>engineSize</th>\n",
       "      <th>tax</th>\n",
       "      <th>mpg</th>\n",
       "    </tr>\n",
       "  </thead>\n",
       "  <tbody>\n",
       "    <tr>\n",
       "      <th>0</th>\n",
       "      <td>C Class</td>\n",
       "      <td>2020</td>\n",
       "      <td>30495</td>\n",
       "      <td>Automatic</td>\n",
       "      <td>1200</td>\n",
       "      <td>Diesel</td>\n",
       "      <td>2.0</td>\n",
       "      <td>NaN</td>\n",
       "      <td>NaN</td>\n",
       "    </tr>\n",
       "    <tr>\n",
       "      <th>1</th>\n",
       "      <td>C Class</td>\n",
       "      <td>2020</td>\n",
       "      <td>29989</td>\n",
       "      <td>Automatic</td>\n",
       "      <td>1000</td>\n",
       "      <td>Petrol</td>\n",
       "      <td>1.5</td>\n",
       "      <td>NaN</td>\n",
       "      <td>NaN</td>\n",
       "    </tr>\n",
       "    <tr>\n",
       "      <th>2</th>\n",
       "      <td>C Class</td>\n",
       "      <td>2020</td>\n",
       "      <td>37899</td>\n",
       "      <td>Automatic</td>\n",
       "      <td>500</td>\n",
       "      <td>Diesel</td>\n",
       "      <td>2.0</td>\n",
       "      <td>NaN</td>\n",
       "      <td>NaN</td>\n",
       "    </tr>\n",
       "    <tr>\n",
       "      <th>3</th>\n",
       "      <td>C Class</td>\n",
       "      <td>2019</td>\n",
       "      <td>30399</td>\n",
       "      <td>Automatic</td>\n",
       "      <td>5000</td>\n",
       "      <td>Diesel</td>\n",
       "      <td>2.0</td>\n",
       "      <td>NaN</td>\n",
       "      <td>NaN</td>\n",
       "    </tr>\n",
       "    <tr>\n",
       "      <th>4</th>\n",
       "      <td>C Class</td>\n",
       "      <td>2019</td>\n",
       "      <td>29899</td>\n",
       "      <td>Automatic</td>\n",
       "      <td>4500</td>\n",
       "      <td>Diesel</td>\n",
       "      <td>2.0</td>\n",
       "      <td>NaN</td>\n",
       "      <td>NaN</td>\n",
       "    </tr>\n",
       "  </tbody>\n",
       "</table>\n",
       "</div>"
      ],
      "text/plain": [
       "      model  year  price transmission  mileage fuelType  engineSize  tax  mpg\n",
       "0   C Class  2020  30495    Automatic     1200   Diesel         2.0  NaN  NaN\n",
       "1   C Class  2020  29989    Automatic     1000   Petrol         1.5  NaN  NaN\n",
       "2   C Class  2020  37899    Automatic      500   Diesel         2.0  NaN  NaN\n",
       "3   C Class  2019  30399    Automatic     5000   Diesel         2.0  NaN  NaN\n",
       "4   C Class  2019  29899    Automatic     4500   Diesel         2.0  NaN  NaN"
      ]
     },
     "execution_count": 18,
     "metadata": {},
     "output_type": "execute_result"
    }
   ],
   "source": [
    "car_data= car_data.drop(columns= \"tax(£)\") # removing the last column of car_data\n",
    "car_data.head()"
   ]
  },
  {
   "cell_type": "code",
   "execution_count": 19,
   "id": "nervous-mountain",
   "metadata": {
    "execution": {
     "iopub.execute_input": "2021-04-18T06:55:44.164734Z",
     "iopub.status.busy": "2021-04-18T06:55:44.163559Z",
     "iopub.status.idle": "2021-04-18T06:55:44.181211Z",
     "shell.execute_reply": "2021-04-18T06:55:44.182009Z"
    },
    "papermill": {
     "duration": 0.114399,
     "end_time": "2021-04-18T06:55:44.182354",
     "exception": false,
     "start_time": "2021-04-18T06:55:44.067955",
     "status": "completed"
    },
    "tags": []
   },
   "outputs": [
    {
     "name": "stdout",
     "output_type": "stream",
     "text": [
      "<class 'pandas.core.frame.DataFrame'>\n",
      "RangeIndex: 108540 entries, 0 to 108539\n",
      "Data columns (total 9 columns):\n",
      " #   Column        Non-Null Count   Dtype  \n",
      "---  ------        --------------   -----  \n",
      " 0   model         108540 non-null  object \n",
      " 1   year          108540 non-null  int64  \n",
      " 2   price         108540 non-null  int64  \n",
      " 3   transmission  108540 non-null  object \n",
      " 4   mileage       108540 non-null  int64  \n",
      " 5   fuelType      108540 non-null  object \n",
      " 6   engineSize    108540 non-null  float64\n",
      " 7   tax           94327 non-null   float64\n",
      " 8   mpg           99187 non-null   float64\n",
      "dtypes: float64(3), int64(3), object(3)\n",
      "memory usage: 7.5+ MB\n"
     ]
    }
   ],
   "source": [
    "car_data.info()"
   ]
  },
  {
   "cell_type": "markdown",
   "id": "second-exercise",
   "metadata": {
    "papermill": {
     "duration": 0.053661,
     "end_time": "2021-04-18T06:55:44.305081",
     "exception": false,
     "start_time": "2021-04-18T06:55:44.251420",
     "status": "completed"
    },
    "tags": []
   },
   "source": [
    "**mpg** is miles per gallon\n",
    "so to find the strategy to impute the missing values we will see if it have relation with other column values"
   ]
  },
  {
   "cell_type": "code",
   "execution_count": 20,
   "id": "extraordinary-island",
   "metadata": {
    "execution": {
     "iopub.execute_input": "2021-04-18T06:55:44.416377Z",
     "iopub.status.busy": "2021-04-18T06:55:44.415735Z",
     "iopub.status.idle": "2021-04-18T06:55:44.850029Z",
     "shell.execute_reply": "2021-04-18T06:55:44.849528Z"
    },
    "papermill": {
     "duration": 0.492051,
     "end_time": "2021-04-18T06:55:44.850177",
     "exception": false,
     "start_time": "2021-04-18T06:55:44.358126",
     "status": "completed"
    },
    "tags": []
   },
   "outputs": [
    {
     "data": {
      "text/plain": [
       "<AxesSubplot:>"
      ]
     },
     "execution_count": 20,
     "metadata": {},
     "output_type": "execute_result"
    },
    {
     "data": {
      "image/png": "[encoded data removed]",
      "text/plain": [
       "<Figure size 432x288 with 2 Axes>"
      ]
     },
     "metadata": {
      "needs_background": "light"
     },
     "output_type": "display_data"
    }
   ],
   "source": [
    "sns.heatmap(car_data.corr(), annot= True)"
   ]
  },
  {
   "cell_type": "code",
   "execution_count": 21,
   "id": "broadband-taste",
   "metadata": {
    "execution": {
     "iopub.execute_input": "2021-04-18T06:55:44.965989Z",
     "iopub.status.busy": "2021-04-18T06:55:44.964899Z",
     "iopub.status.idle": "2021-04-18T06:55:45.193957Z",
     "shell.execute_reply": "2021-04-18T06:55:45.193259Z"
    },
    "papermill": {
     "duration": 0.289756,
     "end_time": "2021-04-18T06:55:45.194104",
     "exception": false,
     "start_time": "2021-04-18T06:55:44.904348",
     "status": "completed"
    },
    "tags": []
   },
   "outputs": [
    {
     "data": {
      "text/plain": [
       "<matplotlib.lines.Line2D at 0x7f7044dddbd0>"
      ]
     },
     "execution_count": 21,
     "metadata": {},
     "output_type": "execute_result"
    },
    {
     "data": {
      "image/png": "[encoded data removed]",
      "text/plain": [
       "<Figure size 432x288 with 1 Axes>"
      ]
     },
     "metadata": {
      "needs_background": "light"
     },
     "output_type": "display_data"
    }
   ],
   "source": [
    "mpg= car_data.corr()[\"mpg\"]\n",
    "mpg.plot()\n",
    "plt.axhline(0)\n",
    "#sns.histplot(mpg)"
   ]
  },
  {
   "cell_type": "code",
   "execution_count": 22,
   "id": "organized-discrimination",
   "metadata": {
    "execution": {
     "iopub.execute_input": "2021-04-18T06:55:45.314676Z",
     "iopub.status.busy": "2021-04-18T06:55:45.313490Z",
     "iopub.status.idle": "2021-04-18T06:55:45.679732Z",
     "shell.execute_reply": "2021-04-18T06:55:45.680357Z"
    },
    "papermill": {
     "duration": 0.428852,
     "end_time": "2021-04-18T06:55:45.680529",
     "exception": false,
     "start_time": "2021-04-18T06:55:45.251677",
     "status": "completed"
    },
    "tags": []
   },
   "outputs": [
    {
     "data": {
      "text/plain": [
       "<AxesSubplot:xlabel='mpg', ylabel='price'>"
      ]
     },
     "execution_count": 22,
     "metadata": {},
     "output_type": "execute_result"
    },
    {
     "data": {
      "image/png": "[encoded data removed]",
      "text/plain": [
       "<Figure size 432x288 with 1 Axes>"
      ]
     },
     "metadata": {
      "needs_background": "light"
     },
     "output_type": "display_data"
    }
   ],
   "source": [
    "sns.scatterplot(x=\"mpg\", y=\"price\", data=car_data)"
   ]
  },
  {
   "cell_type": "code",
   "execution_count": 23,
   "id": "modular-homeless",
   "metadata": {
    "execution": {
     "iopub.execute_input": "2021-04-18T06:55:45.798714Z",
     "iopub.status.busy": "2021-04-18T06:55:45.798087Z",
     "iopub.status.idle": "2021-04-18T06:56:04.518232Z",
     "shell.execute_reply": "2021-04-18T06:56:04.518733Z"
    },
    "papermill": {
     "duration": 18.780508,
     "end_time": "2021-04-18T06:56:04.518913",
     "exception": false,
     "start_time": "2021-04-18T06:55:45.738405",
     "status": "completed"
    },
    "tags": []
   },
   "outputs": [
    {
     "data": {
      "text/plain": [
       "<seaborn.axisgrid.PairGrid at 0x7f7074190d50>"
      ]
     },
     "execution_count": 23,
     "metadata": {},
     "output_type": "execute_result"
    },
    {
     "data": {
      "image/png": "[encoded data removed]",
      "text/plain": [
       "<Figure size 1080x1080 with 42 Axes>"
      ]
     },
     "metadata": {
      "needs_background": "light"
     },
     "output_type": "display_data"
    }
   ],
   "source": [
    "sns.pairplot(car_data)"
   ]
  },
  {
   "cell_type": "code",
   "execution_count": 24,
   "id": "streaming-rapid",
   "metadata": {
    "execution": {
     "iopub.execute_input": "2021-04-18T06:56:04.676164Z",
     "iopub.status.busy": "2021-04-18T06:56:04.660659Z",
     "iopub.status.idle": "2021-04-18T06:57:05.138755Z",
     "shell.execute_reply": "2021-04-18T06:57:05.139241Z"
    },
    "papermill": {
     "duration": 60.552327,
     "end_time": "2021-04-18T06:57:05.139459",
     "exception": false,
     "start_time": "2021-04-18T06:56:04.587132",
     "status": "completed"
    },
    "tags": []
   },
   "outputs": [
    {
     "name": "stdout",
     "output_type": "stream",
     "text": [
      "Collecting evalml\r\n",
      "  Downloading evalml-0.22.0-py3-none-any.whl (6.2 MB)\r\n",
      "\u001b[K     |████████████████████████████████| 6.2 MB 4.8 MB/s \r\n",
      "\u001b[?25hRequirement already satisfied: networkx>=2.5 in /opt/conda/lib/python3.7/site-packages (from evalml) (2.5)\r\n",
      "Requirement already satisfied: ipywidgets>=7.5 in /opt/conda/lib/python3.7/site-packages (from evalml) (7.6.3)\r\n",
      "Requirement already satisfied: scikit-optimize>=0.8.1 in /opt/conda/lib/python3.7/site-packages (from evalml) (0.8.1)\r\n",
      "Collecting lightgbm<3.1.0,>=2.3.1\r\n",
      "  Downloading lightgbm-3.0.0-py2.py3-none-manylinux1_x86_64.whl (1.7 MB)\r\n",
      "\u001b[K     |████████████████████████████████| 1.7 MB 5.0 MB/s \r\n",
      "\u001b[?25hRequirement already satisfied: psutil>=5.6.3 in /opt/conda/lib/python3.7/site-packages (from evalml) (5.8.0)\r\n",
      "Requirement already satisfied: statsmodels>=0.12.2 in /opt/conda/lib/python3.7/site-packages (from evalml) (0.12.2)\r\n",
      "Requirement already satisfied: matplotlib>=3.3.3 in /opt/conda/lib/python3.7/site-packages (from evalml) (3.4.0)\r\n",
      "Collecting requirements-parser>=0.2.0\r\n",
      "  Downloading requirements-parser-0.2.0.tar.gz (6.3 kB)\r\n",
      "Requirement already satisfied: numpy>=1.19.1 in /opt/conda/lib/python3.7/site-packages (from evalml) (1.19.5)\r\n",
      "Collecting graphviz>=0.13\r\n",
      "  Downloading graphviz-0.16-py2.py3-none-any.whl (19 kB)\r\n",
      "Requirement already satisfied: shap>=0.35.0 in /opt/conda/lib/python3.7/site-packages (from evalml) (0.39.0)\r\n",
      "Requirement already satisfied: pandas>=1.1.0 in /opt/conda/lib/python3.7/site-packages (from evalml) (1.2.2)\r\n",
      "Collecting xgboost<1.3.0,>=0.82\r\n",
      "  Downloading xgboost-1.2.1-py3-none-manylinux2010_x86_64.whl (148.9 MB)\r\n",
      "\u001b[K     |████████████████████████████████| 148.9 MB 94 kB/s \r\n",
      "\u001b[?25hRequirement already satisfied: category-encoders>=2.0.0 in /opt/conda/lib/python3.7/site-packages (from evalml) (2.2.2)\r\n",
      "Collecting woodwork==0.0.11\r\n",
      "  Downloading woodwork-0.0.11-py3-none-any.whl (91 kB)\r\n",
      "\u001b[K     |████████████████████████████████| 91 kB 6.6 MB/s \r\n",
      "\u001b[?25hCollecting sktime>=0.5.3\r\n",
      "  Downloading sktime-0.6.0-cp37-cp37m-manylinux2014_x86_64.whl (5.7 MB)\r\n",
      "\u001b[K     |████████████████████████████████| 5.7 MB 16.8 MB/s \r\n",
      "\u001b[?25hRequirement already satisfied: cloudpickle>=0.2.2 in /opt/conda/lib/python3.7/site-packages (from evalml) (1.6.0)\r\n",
      "Collecting kaleido>=0.1.0\r\n",
      "  Downloading kaleido-0.2.1-py2.py3-none-manylinux1_x86_64.whl (79.9 MB)\r\n",
      "\u001b[K     |████████████████████████████████| 79.9 MB 175 kB/s \r\n",
      "\u001b[?25hRequirement already satisfied: scipy>=1.2.1 in /opt/conda/lib/python3.7/site-packages (from evalml) (1.5.4)\r\n",
      "Requirement already satisfied: imbalanced-learn>=0.7.0 in /opt/conda/lib/python3.7/site-packages (from evalml) (0.8.0)\r\n",
      "Requirement already satisfied: texttable>=1.6.2 in /opt/conda/lib/python3.7/site-packages (from evalml) (1.6.3)\r\n",
      "Requirement already satisfied: colorama in /opt/conda/lib/python3.7/site-packages (from evalml) (0.4.4)\r\n",
      "Requirement already satisfied: plotly>=4.14.0 in /opt/conda/lib/python3.7/site-packages (from evalml) (4.14.3)\r\n",
      "Requirement already satisfied: featuretools>=0.20.0 in /opt/conda/lib/python3.7/site-packages (from evalml) (0.23.2)\r\n",
      "Requirement already satisfied: scikit-learn>=0.23.1 in /opt/conda/lib/python3.7/site-packages (from evalml) (0.24.1)\r\n",
      "Requirement already satisfied: catboost>=0.20 in /opt/conda/lib/python3.7/site-packages (from evalml) (0.25)\r\n",
      "Collecting pyzmq<22.0.0\r\n",
      "  Downloading pyzmq-21.0.2-cp37-cp37m-manylinux1_x86_64.whl (6.7 MB)\r\n",
      "\u001b[K     |████████████████████████████████| 6.7 MB 17.2 MB/s \r\n",
      "\u001b[?25hRequirement already satisfied: seaborn>=0.11.1 in /opt/conda/lib/python3.7/site-packages (from evalml) (0.11.1)\r\n",
      "Requirement already satisfied: click>=7.0.0 in /opt/conda/lib/python3.7/site-packages (from evalml) (7.1.2)\r\n",
      "Collecting nlp-primitives>=1.1.0\r\n",
      "  Downloading nlp_primitives-1.1.0-py3-none-any.whl (18.0 MB)\r\n",
      "\u001b[K     |████████████████████████████████| 18.0 MB 879 kB/s \r\n",
      "\u001b[?25hRequirement already satisfied: six in /opt/conda/lib/python3.7/site-packages (from catboost>=0.20->evalml) (1.15.0)\r\n",
      "Requirement already satisfied: patsy>=0.5.1 in /opt/conda/lib/python3.7/site-packages (from category-encoders>=2.0.0->evalml) (0.5.1)\r\n",
      "Requirement already satisfied: dask[dataframe]>=2.12.0 in /opt/conda/lib/python3.7/site-packages (from featuretools>=0.20.0->evalml) (2021.3.1)\r\n",
      "Requirement already satisfied: tqdm>=4.32.0 in /opt/conda/lib/python3.7/site-packages (from featuretools>=0.20.0->evalml) (4.56.2)\r\n",
      "Requirement already satisfied: distributed>=2.12.0 in /opt/conda/lib/python3.7/site-packages (from featuretools>=0.20.0->evalml) (2021.3.1)\r\n",
      "Requirement already satisfied: pyyaml>=3.12 in /opt/conda/lib/python3.7/site-packages (from featuretools>=0.20.0->evalml) (5.3.1)\r\n",
      "Requirement already satisfied: partd>=0.3.10 in /opt/conda/lib/python3.7/site-packages (from dask[dataframe]>=2.12.0->featuretools>=0.20.0->evalml) (1.1.0)\r\n",
      "Requirement already satisfied: fsspec>=0.6.0 in /opt/conda/lib/python3.7/site-packages (from dask[dataframe]>=2.12.0->featuretools>=0.20.0->evalml) (0.8.5)\r\n",
      "Requirement already satisfied: toolz>=0.8.2 in /opt/conda/lib/python3.7/site-packages (from dask[dataframe]>=2.12.0->featuretools>=0.20.0->evalml) (0.11.1)\r\n",
      "Requirement already satisfied: zict>=0.1.3 in /opt/conda/lib/python3.7/site-packages (from distributed>=2.12.0->featuretools>=0.20.0->evalml) (2.0.0)\r\n",
      "Requirement already satisfied: msgpack>=0.6.0 in /opt/conda/lib/python3.7/site-packages (from distributed>=2.12.0->featuretools>=0.20.0->evalml) (1.0.2)\r\n",
      "Requirement already satisfied: setuptools in /opt/conda/lib/python3.7/site-packages (from distributed>=2.12.0->featuretools>=0.20.0->evalml) (49.6.0.post20210108)\r\n",
      "Requirement already satisfied: tornado>=5 in /opt/conda/lib/python3.7/site-packages (from distributed>=2.12.0->featuretools>=0.20.0->evalml) (5.0.2)\r\n",
      "Requirement already satisfied: sortedcontainers!=2.0.0,!=2.0.1 in /opt/conda/lib/python3.7/site-packages (from distributed>=2.12.0->featuretools>=0.20.0->evalml) (2.3.0)\r\n",
      "Requirement already satisfied: tblib>=1.6.0 in /opt/conda/lib/python3.7/site-packages (from distributed>=2.12.0->featuretools>=0.20.0->evalml) (1.7.0)\r\n",
      "Requirement already satisfied: joblib>=0.11 in /opt/conda/lib/python3.7/site-packages (from imbalanced-learn>=0.7.0->evalml) (1.0.1)\r\n",
      "Requirement already satisfied: ipython>=4.0.0 in /opt/conda/lib/python3.7/site-packages (from ipywidgets>=7.5->evalml) (7.20.0)\r\n",
      "Requirement already satisfied: widgetsnbextension~=3.5.0 in /opt/conda/lib/python3.7/site-packages (from ipywidgets>=7.5->evalml) (3.5.1)\r\n",
      "Requirement already satisfied: nbformat>=4.2.0 in /opt/conda/lib/python3.7/site-packages (from ipywidgets>=7.5->evalml) (5.1.2)\r\n",
      "Requirement already satisfied: jupyterlab-widgets>=1.0.0 in /opt/conda/lib/python3.7/site-packages (from ipywidgets>=7.5->evalml) (1.0.0)\r\n",
      "Requirement already satisfied: ipykernel>=4.5.1 in /opt/conda/lib/python3.7/site-packages (from ipywidgets>=7.5->evalml) (5.1.1)\r\n",
      "Requirement already satisfied: traitlets>=4.3.1 in /opt/conda/lib/python3.7/site-packages (from ipywidgets>=7.5->evalml) (5.0.5)\r\n",
      "Requirement already satisfied: jupyter-client in /opt/conda/lib/python3.7/site-packages (from ipykernel>=4.5.1->ipywidgets>=7.5->evalml) (6.1.11)\r\n",
      "Requirement already satisfied: jedi>=0.16 in /opt/conda/lib/python3.7/site-packages (from ipython>=4.0.0->ipywidgets>=7.5->evalml) (0.17.2)\r\n",
      "Requirement already satisfied: prompt-toolkit!=3.0.0,!=3.0.1,<3.1.0,>=2.0.0 in /opt/conda/lib/python3.7/site-packages (from ipython>=4.0.0->ipywidgets>=7.5->evalml) (3.0.16)\r\n",
      "Requirement already satisfied: pygments in /opt/conda/lib/python3.7/site-packages (from ipython>=4.0.0->ipywidgets>=7.5->evalml) (2.8.0)\r\n",
      "Requirement already satisfied: backcall in /opt/conda/lib/python3.7/site-packages (from ipython>=4.0.0->ipywidgets>=7.5->evalml) (0.2.0)\r\n",
      "Requirement already satisfied: pickleshare in /opt/conda/lib/python3.7/site-packages (from ipython>=4.0.0->ipywidgets>=7.5->evalml) (0.7.5)\r\n",
      "Requirement already satisfied: decorator in /opt/conda/lib/python3.7/site-packages (from ipython>=4.0.0->ipywidgets>=7.5->evalml) (4.4.2)\r\n",
      "Requirement already satisfied: pexpect>4.3 in /opt/conda/lib/python3.7/site-packages (from ipython>=4.0.0->ipywidgets>=7.5->evalml) (4.8.0)\r\n",
      "Requirement already satisfied: parso<0.8.0,>=0.7.0 in /opt/conda/lib/python3.7/site-packages (from jedi>=0.16->ipython>=4.0.0->ipywidgets>=7.5->evalml) (0.7.1)\r\n",
      "Requirement already satisfied: kiwisolver>=1.0.1 in /opt/conda/lib/python3.7/site-packages (from matplotlib>=3.3.3->evalml) (1.3.1)\r\n",
      "Requirement already satisfied: python-dateutil>=2.7 in /opt/conda/lib/python3.7/site-packages (from matplotlib>=3.3.3->evalml) (2.8.1)\r\n",
      "Requirement already satisfied: cycler>=0.10 in /opt/conda/lib/python3.7/site-packages (from matplotlib>=3.3.3->evalml) (0.10.0)\r\n",
      "Requirement already satisfied: pyparsing>=2.2.1 in /opt/conda/lib/python3.7/site-packages (from matplotlib>=3.3.3->evalml) (2.4.7)\r\n",
      "Requirement already satisfied: pillow>=6.2.0 in /opt/conda/lib/python3.7/site-packages (from matplotlib>=3.3.3->evalml) (7.2.0)\r\n",
      "Requirement already satisfied: jsonschema!=2.5.0,>=2.4 in /opt/conda/lib/python3.7/site-packages (from nbformat>=4.2.0->ipywidgets>=7.5->evalml) (3.2.0)\r\n",
      "Requirement already satisfied: jupyter-core in /opt/conda/lib/python3.7/site-packages (from nbformat>=4.2.0->ipywidgets>=7.5->evalml) (4.7.1)\r\n",
      "Requirement already satisfied: ipython-genutils in /opt/conda/lib/python3.7/site-packages (from nbformat>=4.2.0->ipywidgets>=7.5->evalml) (0.2.0)\r\n",
      "Requirement already satisfied: importlib-metadata in /opt/conda/lib/python3.7/site-packages (from jsonschema!=2.5.0,>=2.4->nbformat>=4.2.0->ipywidgets>=7.5->evalml) (3.4.0)\r\n",
      "Requirement already satisfied: attrs>=17.4.0 in /opt/conda/lib/python3.7/site-packages (from jsonschema!=2.5.0,>=2.4->nbformat>=4.2.0->ipywidgets>=7.5->evalml) (20.3.0)\r\n",
      "Requirement already satisfied: pyrsistent>=0.14.0 in /opt/conda/lib/python3.7/site-packages (from jsonschema!=2.5.0,>=2.4->nbformat>=4.2.0->ipywidgets>=7.5->evalml) (0.17.3)\r\n",
      "Collecting nltk>=3.4.5\r\n",
      "  Downloading nltk-3.6.1-py3-none-any.whl (1.5 MB)\r\n",
      "\u001b[K     |████████████████████████████████| 1.5 MB 28.1 MB/s \r\n",
      "\u001b[?25hRequirement already satisfied: regex in /opt/conda/lib/python3.7/site-packages (from nltk>=3.4.5->nlp-primitives>=1.1.0->evalml) (2020.11.13)\r\n",
      "Requirement already satisfied: pytz>=2017.3 in /opt/conda/lib/python3.7/site-packages (from pandas>=1.1.0->evalml) (2021.1)\r\n",
      "Requirement already satisfied: locket in /opt/conda/lib/python3.7/site-packages (from partd>=0.3.10->dask[dataframe]>=2.12.0->featuretools>=0.20.0->evalml) (0.2.1)\r\n",
      "Requirement already satisfied: ptyprocess>=0.5 in /opt/conda/lib/python3.7/site-packages (from pexpect>4.3->ipython>=4.0.0->ipywidgets>=7.5->evalml) (0.7.0)\r\n",
      "Requirement already satisfied: retrying>=1.3.3 in /opt/conda/lib/python3.7/site-packages (from plotly>=4.14.0->evalml) (1.3.3)\r\n",
      "Requirement already satisfied: wcwidth in /opt/conda/lib/python3.7/site-packages (from prompt-toolkit!=3.0.0,!=3.0.1,<3.1.0,>=2.0.0->ipython>=4.0.0->ipywidgets>=7.5->evalml) (0.2.5)\r\n",
      "Requirement already satisfied: threadpoolctl>=2.0.0 in /opt/conda/lib/python3.7/site-packages (from scikit-learn>=0.23.1->evalml) (2.1.0)\r\n",
      "Requirement already satisfied: pyaml>=16.9 in /opt/conda/lib/python3.7/site-packages (from scikit-optimize>=0.8.1->evalml) (20.4.0)\r\n",
      "Requirement already satisfied: numba in /opt/conda/lib/python3.7/site-packages (from shap>=0.35.0->evalml) (0.52.0)\r\n",
      "Requirement already satisfied: slicer==0.0.7 in /opt/conda/lib/python3.7/site-packages (from shap>=0.35.0->evalml) (0.0.7)\r\n",
      "Requirement already satisfied: wheel in /opt/conda/lib/python3.7/site-packages (from sktime>=0.5.3->evalml) (0.36.2)\r\n",
      "Requirement already satisfied: llvmlite<0.36,>=0.35.0 in /opt/conda/lib/python3.7/site-packages (from numba->shap>=0.35.0->evalml) (0.35.0)\r\n",
      "Requirement already satisfied: notebook>=4.4.1 in /opt/conda/lib/python3.7/site-packages (from widgetsnbextension~=3.5.0->ipywidgets>=7.5->evalml) (5.5.0)\r\n",
      "Requirement already satisfied: Send2Trash in /opt/conda/lib/python3.7/site-packages (from notebook>=4.4.1->widgetsnbextension~=3.5.0->ipywidgets>=7.5->evalml) (1.5.0)\r\n",
      "Requirement already satisfied: jinja2 in /opt/conda/lib/python3.7/site-packages (from notebook>=4.4.1->widgetsnbextension~=3.5.0->ipywidgets>=7.5->evalml) (2.11.3)\r\n",
      "Requirement already satisfied: terminado>=0.8.1 in /opt/conda/lib/python3.7/site-packages (from notebook>=4.4.1->widgetsnbextension~=3.5.0->ipywidgets>=7.5->evalml) (0.9.2)\r\n",
      "Requirement already satisfied: nbconvert in /opt/conda/lib/python3.7/site-packages (from notebook>=4.4.1->widgetsnbextension~=3.5.0->ipywidgets>=7.5->evalml) (6.0.7)\r\n",
      "Requirement already satisfied: heapdict in /opt/conda/lib/python3.7/site-packages (from zict>=0.1.3->distributed>=2.12.0->featuretools>=0.20.0->evalml) (1.0.1)\r\n",
      "Requirement already satisfied: typing-extensions>=3.6.4 in /opt/conda/lib/python3.7/site-packages (from importlib-metadata->jsonschema!=2.5.0,>=2.4->nbformat>=4.2.0->ipywidgets>=7.5->evalml) (3.7.4.3)\r\n",
      "Requirement already satisfied: zipp>=0.5 in /opt/conda/lib/python3.7/site-packages (from importlib-metadata->jsonschema!=2.5.0,>=2.4->nbformat>=4.2.0->ipywidgets>=7.5->evalml) (3.4.0)\r\n",
      "Requirement already satisfied: MarkupSafe>=0.23 in /opt/conda/lib/python3.7/site-packages (from jinja2->notebook>=4.4.1->widgetsnbextension~=3.5.0->ipywidgets>=7.5->evalml) (1.1.1)\r\n",
      "Requirement already satisfied: pandocfilters>=1.4.1 in /opt/conda/lib/python3.7/site-packages (from nbconvert->notebook>=4.4.1->widgetsnbextension~=3.5.0->ipywidgets>=7.5->evalml) (1.4.2)\r\n",
      "Requirement already satisfied: entrypoints>=0.2.2 in /opt/conda/lib/python3.7/site-packages (from nbconvert->notebook>=4.4.1->widgetsnbextension~=3.5.0->ipywidgets>=7.5->evalml) (0.3)\r\n",
      "Requirement already satisfied: defusedxml in /opt/conda/lib/python3.7/site-packages (from nbconvert->notebook>=4.4.1->widgetsnbextension~=3.5.0->ipywidgets>=7.5->evalml) (0.6.0)\r\n",
      "Requirement already satisfied: jupyterlab-pygments in /opt/conda/lib/python3.7/site-packages (from nbconvert->notebook>=4.4.1->widgetsnbextension~=3.5.0->ipywidgets>=7.5->evalml) (0.1.2)\r\n",
      "Requirement already satisfied: testpath in /opt/conda/lib/python3.7/site-packages (from nbconvert->notebook>=4.4.1->widgetsnbextension~=3.5.0->ipywidgets>=7.5->evalml) (0.4.4)\r\n",
      "Requirement already satisfied: mistune<2,>=0.8.1 in /opt/conda/lib/python3.7/site-packages (from nbconvert->notebook>=4.4.1->widgetsnbextension~=3.5.0->ipywidgets>=7.5->evalml) (0.8.4)\r\n",
      "Requirement already satisfied: nbclient<0.6.0,>=0.5.0 in /opt/conda/lib/python3.7/site-packages (from nbconvert->notebook>=4.4.1->widgetsnbextension~=3.5.0->ipywidgets>=7.5->evalml) (0.5.2)\r\n",
      "Requirement already satisfied: bleach in /opt/conda/lib/python3.7/site-packages (from nbconvert->notebook>=4.4.1->widgetsnbextension~=3.5.0->ipywidgets>=7.5->evalml) (3.3.0)\r\n",
      "Requirement already satisfied: async-generator in /opt/conda/lib/python3.7/site-packages (from nbclient<0.6.0,>=0.5.0->nbconvert->notebook>=4.4.1->widgetsnbextension~=3.5.0->ipywidgets>=7.5->evalml) (1.10)\r\n",
      "Requirement already satisfied: nest-asyncio in /opt/conda/lib/python3.7/site-packages (from nbclient<0.6.0,>=0.5.0->nbconvert->notebook>=4.4.1->widgetsnbextension~=3.5.0->ipywidgets>=7.5->evalml) (1.4.3)\r\n",
      "Requirement already satisfied: packaging in /opt/conda/lib/python3.7/site-packages (from bleach->nbconvert->notebook>=4.4.1->widgetsnbextension~=3.5.0->ipywidgets>=7.5->evalml) (20.9)\r\n",
      "Requirement already satisfied: webencodings in /opt/conda/lib/python3.7/site-packages (from bleach->nbconvert->notebook>=4.4.1->widgetsnbextension~=3.5.0->ipywidgets>=7.5->evalml) (0.5.1)\r\n",
      "Building wheels for collected packages: requirements-parser\r\n",
      "  Building wheel for requirements-parser (setup.py) ... \u001b[?25l-\b \b\\\b \bdone\r\n",
      "\u001b[?25h  Created wheel for requirements-parser: filename=requirements_parser-0.2.0-py3-none-any.whl size=7655 sha256=84a8419bc0c70044d79a134aaabf574799070ab791dea3c042336ed3153b6316\r\n",
      "  Stored in directory: /root/.cache/pip/wheels/40/e4/ca/8af24ee94c3863d620d6a52793d82930f4d1d3515a5121d495\r\n",
      "Successfully built requirements-parser\r\n",
      "Installing collected packages: pyzmq, nltk, graphviz, xgboost, woodwork, sktime, requirements-parser, nlp-primitives, lightgbm, kaleido, evalml\r\n",
      "  Attempting uninstall: pyzmq\r\n",
      "    Found existing installation: pyzmq 22.0.3\r\n",
      "    Uninstalling pyzmq-22.0.3:\r\n",
      "      Successfully uninstalled pyzmq-22.0.3\r\n",
      "  Attempting uninstall: nltk\r\n",
      "    Found existing installation: nltk 3.2.4\r\n",
      "    Uninstalling nltk-3.2.4:\r\n",
      "      Successfully uninstalled nltk-3.2.4\r\n",
      "  Attempting uninstall: graphviz\r\n",
      "    Found existing installation: graphviz 0.8.4\r\n",
      "    Uninstalling graphviz-0.8.4:\r\n",
      "      Successfully uninstalled graphviz-0.8.4\r\n",
      "  Attempting uninstall: xgboost\r\n",
      "    Found existing installation: xgboost 1.3.3\r\n",
      "    Uninstalling xgboost-1.3.3:\r\n",
      "      Successfully uninstalled xgboost-1.3.3\r\n",
      "  Attempting uninstall: lightgbm\r\n",
      "    Found existing installation: lightgbm 3.1.1\r\n",
      "    Uninstalling lightgbm-3.1.1:\r\n",
      "      Successfully uninstalled lightgbm-3.1.1\r\n",
      "\u001b[31mERROR: pip's dependency resolver does not currently take into account all the packages that are installed. This behaviour is the source of the following dependency conflicts.\r\n",
      "preprocessing 0.1.13 requires nltk==3.2.4, but you have nltk 3.6.1 which is incompatible.\r\n",
      "mxnet 1.8.0.post0 requires graphviz<0.9.0,>=0.8.1, but you have graphviz 0.16 which is incompatible.\r\n",
      "jupyterlab-git 0.11.0 requires nbdime<2.0.0,>=1.1.0, but you have nbdime 2.1.0 which is incompatible.\r\n",
      "autogluon-core 0.1.0 requires graphviz<0.9.0,>=0.8.1, but you have graphviz 0.16 which is incompatible.\u001b[0m\r\n",
      "Successfully installed evalml-0.22.0 graphviz-0.16 kaleido-0.2.1 lightgbm-3.0.0 nlp-primitives-1.1.0 nltk-3.6.1 pyzmq-21.0.2 requirements-parser-0.2.0 sktime-0.6.0 woodwork-0.0.11 xgboost-1.2.1\r\n"
     ]
    }
   ],
   "source": [
    "!pip install evalml\n",
    "import evalml"
   ]
  },
  {
   "cell_type": "code",
   "execution_count": 25,
   "id": "metropolitan-onion",
   "metadata": {
    "execution": {
     "iopub.execute_input": "2021-04-18T06:57:05.696499Z",
     "iopub.status.busy": "2021-04-18T06:57:05.695539Z",
     "iopub.status.idle": "2021-04-18T06:57:05.717885Z",
     "shell.execute_reply": "2021-04-18T06:57:05.718436Z"
    },
    "papermill": {
     "duration": 0.303093,
     "end_time": "2021-04-18T06:57:05.718616",
     "exception": false,
     "start_time": "2021-04-18T06:57:05.415523",
     "status": "completed"
    },
    "tags": []
   },
   "outputs": [
    {
     "data": {
      "text/html": [
       "<div>\n",
       "<style scoped>\n",
       "    .dataframe tbody tr th:only-of-type {\n",
       "        vertical-align: middle;\n",
       "    }\n",
       "\n",
       "    .dataframe tbody tr th {\n",
       "        vertical-align: top;\n",
       "    }\n",
       "\n",
       "    .dataframe thead th {\n",
       "        text-align: right;\n",
       "    }\n",
       "</style>\n",
       "<table border=\"1\" class=\"dataframe\">\n",
       "  <thead>\n",
       "    <tr style=\"text-align: right;\">\n",
       "      <th></th>\n",
       "      <th>model</th>\n",
       "      <th>year</th>\n",
       "      <th>price</th>\n",
       "      <th>transmission</th>\n",
       "      <th>mileage</th>\n",
       "      <th>fuelType</th>\n",
       "      <th>engineSize</th>\n",
       "      <th>tax</th>\n",
       "      <th>mpg</th>\n",
       "    </tr>\n",
       "  </thead>\n",
       "  <tbody>\n",
       "    <tr>\n",
       "      <th>0</th>\n",
       "      <td>C Class</td>\n",
       "      <td>2020</td>\n",
       "      <td>30495</td>\n",
       "      <td>Automatic</td>\n",
       "      <td>1200</td>\n",
       "      <td>Diesel</td>\n",
       "      <td>2.0</td>\n",
       "      <td>NaN</td>\n",
       "      <td>NaN</td>\n",
       "    </tr>\n",
       "    <tr>\n",
       "      <th>1</th>\n",
       "      <td>C Class</td>\n",
       "      <td>2020</td>\n",
       "      <td>29989</td>\n",
       "      <td>Automatic</td>\n",
       "      <td>1000</td>\n",
       "      <td>Petrol</td>\n",
       "      <td>1.5</td>\n",
       "      <td>NaN</td>\n",
       "      <td>NaN</td>\n",
       "    </tr>\n",
       "    <tr>\n",
       "      <th>2</th>\n",
       "      <td>C Class</td>\n",
       "      <td>2020</td>\n",
       "      <td>37899</td>\n",
       "      <td>Automatic</td>\n",
       "      <td>500</td>\n",
       "      <td>Diesel</td>\n",
       "      <td>2.0</td>\n",
       "      <td>NaN</td>\n",
       "      <td>NaN</td>\n",
       "    </tr>\n",
       "    <tr>\n",
       "      <th>3</th>\n",
       "      <td>C Class</td>\n",
       "      <td>2019</td>\n",
       "      <td>30399</td>\n",
       "      <td>Automatic</td>\n",
       "      <td>5000</td>\n",
       "      <td>Diesel</td>\n",
       "      <td>2.0</td>\n",
       "      <td>NaN</td>\n",
       "      <td>NaN</td>\n",
       "    </tr>\n",
       "    <tr>\n",
       "      <th>4</th>\n",
       "      <td>C Class</td>\n",
       "      <td>2019</td>\n",
       "      <td>29899</td>\n",
       "      <td>Automatic</td>\n",
       "      <td>4500</td>\n",
       "      <td>Diesel</td>\n",
       "      <td>2.0</td>\n",
       "      <td>NaN</td>\n",
       "      <td>NaN</td>\n",
       "    </tr>\n",
       "  </tbody>\n",
       "</table>\n",
       "</div>"
      ],
      "text/plain": [
       "      model  year  price transmission  mileage fuelType  engineSize  tax  mpg\n",
       "0   C Class  2020  30495    Automatic     1200   Diesel         2.0  NaN  NaN\n",
       "1   C Class  2020  29989    Automatic     1000   Petrol         1.5  NaN  NaN\n",
       "2   C Class  2020  37899    Automatic      500   Diesel         2.0  NaN  NaN\n",
       "3   C Class  2019  30399    Automatic     5000   Diesel         2.0  NaN  NaN\n",
       "4   C Class  2019  29899    Automatic     4500   Diesel         2.0  NaN  NaN"
      ]
     },
     "execution_count": 25,
     "metadata": {},
     "output_type": "execute_result"
    }
   ],
   "source": [
    "car_data.head()"
   ]
  },
  {
   "cell_type": "code",
   "execution_count": 26,
   "id": "described-egypt",
   "metadata": {
    "execution": {
     "iopub.execute_input": "2021-04-18T06:57:06.267200Z",
     "iopub.status.busy": "2021-04-18T06:57:06.266519Z",
     "iopub.status.idle": "2021-04-18T06:57:06.278407Z",
     "shell.execute_reply": "2021-04-18T06:57:06.277696Z"
    },
    "papermill": {
     "duration": 0.286742,
     "end_time": "2021-04-18T06:57:06.278550",
     "exception": false,
     "start_time": "2021-04-18T06:57:05.991808",
     "status": "completed"
    },
    "tags": []
   },
   "outputs": [],
   "source": [
    "x= car_data.drop(columns=\"price\")\n",
    "y= car_data.price"
   ]
  },
  {
   "cell_type": "code",
   "execution_count": 27,
   "id": "saved-treatment",
   "metadata": {
    "execution": {
     "iopub.execute_input": "2021-04-18T06:57:06.835882Z",
     "iopub.status.busy": "2021-04-18T06:57:06.835156Z",
     "iopub.status.idle": "2021-04-18T06:57:07.063582Z",
     "shell.execute_reply": "2021-04-18T06:57:07.064184Z"
    },
    "papermill": {
     "duration": 0.510753,
     "end_time": "2021-04-18T06:57:07.064407",
     "exception": false,
     "start_time": "2021-04-18T06:57:06.553654",
     "status": "completed"
    },
    "tags": []
   },
   "outputs": [],
   "source": [
    "trainx, testx, trainy, testy= evalml.preprocessing.split_data(x,y, problem_type=\"regression\", test_size=0.2, random_seed=20)"
   ]
  },
  {
   "cell_type": "code",
   "execution_count": 28,
   "id": "critical-ebony",
   "metadata": {
    "execution": {
     "iopub.execute_input": "2021-04-18T06:57:07.620593Z",
     "iopub.status.busy": "2021-04-18T06:57:07.619651Z",
     "iopub.status.idle": "2021-04-18T06:57:08.827071Z",
     "shell.execute_reply": "2021-04-18T06:57:08.826397Z"
    },
    "papermill": {
     "duration": 1.485457,
     "end_time": "2021-04-18T06:57:08.827229",
     "exception": false,
     "start_time": "2021-04-18T06:57:07.341772",
     "status": "completed"
    },
    "tags": []
   },
   "outputs": [
    {
     "name": "stdout",
     "output_type": "stream",
     "text": [
      "Using default limit of max_batches=1.\n",
      "\n",
      "Generating pipelines to search over...\n"
     ]
    },
    {
     "data": {
      "text/html": [
       "<style type='text/css'>\n",
       ".datatable table.frame { margin-bottom: 0; }\n",
       ".datatable table.frame thead { border-bottom: none; }\n",
       ".datatable table.frame tr.coltypes td {  color: #FFFFFF;  line-height: 6px;  padding: 0 0.5em;}\n",
       ".datatable .bool    { background: #DDDD99; }\n",
       ".datatable .object  { background: #565656; }\n",
       ".datatable .int     { background: #5D9E5D; }\n",
       ".datatable .float   { background: #4040CC; }\n",
       ".datatable .str     { background: #CC4040; }\n",
       ".datatable .row_index {  background: var(--jp-border-color3);  border-right: 1px solid var(--jp-border-color0);  color: var(--jp-ui-font-color3);  font-size: 9px;}\n",
       ".datatable .frame tr.coltypes .row_index {  background: var(--jp-border-color0);}\n",
       ".datatable th:nth-child(2) { padding-left: 12px; }\n",
       ".datatable .hellipsis {  color: var(--jp-cell-editor-border-color);}\n",
       ".datatable .vellipsis {  background: var(--jp-layout-color0);  color: var(--jp-cell-editor-border-color);}\n",
       ".datatable .na {  color: var(--jp-cell-editor-border-color);  font-size: 80%;}\n",
       ".datatable .footer { font-size: 9px; }\n",
       ".datatable .frame_dimensions {  background: var(--jp-border-color3);  border-top: 1px solid var(--jp-border-color0);  color: var(--jp-ui-font-color3);  display: inline-block;  opacity: 0.6;  padding: 1px 10px 1px 5px;}\n",
       "</style>\n"
      ],
      "text/plain": [
       "<IPython.core.display.HTML object>"
      ]
     },
     "metadata": {},
     "output_type": "display_data"
    }
   ],
   "source": [
    "model1= evalml.automl.AutoMLSearch(X_train=trainx, y_train=trainy, problem_type=\"regression\")"
   ]
  },
  {
   "cell_type": "code",
   "execution_count": 29,
   "id": "stretch-tolerance",
   "metadata": {
    "execution": {
     "iopub.execute_input": "2021-04-18T06:57:09.387850Z",
     "iopub.status.busy": "2021-04-18T06:57:09.387003Z",
     "iopub.status.idle": "2021-04-18T06:58:06.217076Z",
     "shell.execute_reply": "2021-04-18T06:58:06.217615Z"
    },
    "papermill": {
     "duration": 57.111024,
     "end_time": "2021-04-18T06:58:06.217790",
     "exception": false,
     "start_time": "2021-04-18T06:57:09.106766",
     "status": "completed"
    },
    "tags": []
   },
   "outputs": [
    {
     "name": "stdout",
     "output_type": "stream",
     "text": [
      "*****************************\n",
      "* Beginning pipeline search *\n",
      "*****************************\n",
      "\n",
      "Optimizing for R2. \n",
      "Greater score is better.\n",
      "\n",
      "Using SequentialEngine to train and score pipelines.\n",
      "Searching up to 1 batches for a total of 9 pipelines. \n",
      "Allowed model families: catboost, linear_model, xgboost, lightgbm, decision_tree, extra_trees, random_forest\n",
      "\n"
     ]
    },
    {
     "data": {
      "application/vnd.jupyter.widget-view+json": {
       "model_id": "af36f6e2547c4277a5f930b9c33aac40",
       "version_major": 2,
       "version_minor": 0
      },
      "text/plain": [
       "FigureWidget({\n",
       "    'data': [{'mode': 'lines+markers',\n",
       "              'name': 'Best Score',\n",
       "              'type'…"
      ]
     },
     "metadata": {},
     "output_type": "display_data"
    },
    {
     "name": "stdout",
     "output_type": "stream",
     "text": [
      "Batch 1: (1/9) Mean Baseline Regression Pipeline        Elapsed:00:00\n",
      "\tStarting cross validation\n",
      "\tFinished cross validation - mean R2: -0.000\n",
      "High coefficient of variation (cv >= 0.2) within cross validation scores. Mean Baseline Regression Pipeline may not perform as estimated on unseen data.\n",
      "Batch 1: (2/9) Decision Tree Regressor w/ Imputer + ... Elapsed:00:00\n",
      "\tStarting cross validation\n",
      "\tFinished cross validation - mean R2: 0.830\n",
      "Batch 1: (3/9) Extra Trees Regressor w/ Imputer + On... Elapsed:00:03\n",
      "\tStarting cross validation\n",
      "\tFinished cross validation - mean R2: 0.793\n",
      "Batch 1: (4/9) XGBoost Regressor w/ Imputer + One Ho... Elapsed:00:11\n",
      "\tStarting cross validation\n",
      "\tFinished cross validation - mean R2: 0.912\n",
      "Batch 1: (5/9) CatBoost Regressor w/ Imputer            Elapsed:00:25\n",
      "\tStarting cross validation\n",
      "\tFinished cross validation - mean R2: 0.349\n",
      "Batch 1: (6/9) Random Forest Regressor w/ Imputer + ... Elapsed:00:27\n",
      "\tStarting cross validation\n",
      "\tFinished cross validation - mean R2: 0.843\n",
      "Batch 1: (7/9) LightGBM Regressor w/ Imputer + One H... Elapsed:00:39\n",
      "\tStarting cross validation\n",
      "\tFinished cross validation - mean R2: 0.849\n",
      "Batch 1: (8/9) Linear Regressor w/ Imputer + One Hot... Elapsed:00:42\n",
      "\tStarting cross validation\n",
      "\tFinished cross validation - mean R2: -3949270269412570038272.000\n",
      "High coefficient of variation (cv >= 0.2) within cross validation scores. Linear Regressor w/ Imputer + One Hot Encoder + Standard Scaler may not perform as estimated on unseen data.\n",
      "Batch 1: (9/9) Elastic Net Regressor w/ Imputer + On... Elapsed:00:45\n",
      "\tStarting cross validation\n",
      "\tFinished cross validation - mean R2: 0.719\n",
      "\n",
      "Search finished after 00:49            \n",
      "Best pipeline: XGBoost Regressor w/ Imputer + One Hot Encoder\n",
      "Best pipeline R2: 0.912398\n"
     ]
    }
   ],
   "source": [
    "model1.search()"
   ]
  },
  {
   "cell_type": "code",
   "execution_count": 30,
   "id": "sealed-sound",
   "metadata": {
    "execution": {
     "iopub.execute_input": "2021-04-18T06:58:06.787344Z",
     "iopub.status.busy": "2021-04-18T06:58:06.786751Z",
     "iopub.status.idle": "2021-04-18T06:58:06.790890Z",
     "shell.execute_reply": "2021-04-18T06:58:06.790396Z"
    },
    "papermill": {
     "duration": 0.291867,
     "end_time": "2021-04-18T06:58:06.791019",
     "exception": false,
     "start_time": "2021-04-18T06:58:06.499152",
     "status": "completed"
    },
    "tags": []
   },
   "outputs": [
    {
     "data": {
      "text/plain": [
       "GeneratedPipeline(parameters={'Imputer':{'categorical_impute_strategy': 'most_frequent', 'numeric_impute_strategy': 'mean', 'categorical_fill_value': None, 'numeric_fill_value': None}, 'One Hot Encoder':{'top_n': 10, 'features_to_encode': None, 'categories': None, 'drop': 'if_binary', 'handle_unknown': 'ignore', 'handle_missing': 'error'}, 'XGBoost Regressor':{'eta': 0.1, 'max_depth': 6, 'min_child_weight': 1, 'n_estimators': 100},})"
      ]
     },
     "execution_count": 30,
     "metadata": {},
     "output_type": "execute_result"
    }
   ],
   "source": [
    "model1.best_pipeline"
   ]
  },
  {
   "cell_type": "code",
   "execution_count": 31,
   "id": "technological-jacksonville",
   "metadata": {
    "execution": {
     "iopub.execute_input": "2021-04-18T06:58:07.424102Z",
     "iopub.status.busy": "2021-04-18T06:58:07.421013Z",
     "iopub.status.idle": "2021-04-18T06:58:07.429696Z",
     "shell.execute_reply": "2021-04-18T06:58:07.429197Z"
    },
    "papermill": {
     "duration": 0.354535,
     "end_time": "2021-04-18T06:58:07.429848",
     "exception": false,
     "start_time": "2021-04-18T06:58:07.075313",
     "status": "completed"
    },
    "tags": []
   },
   "outputs": [
    {
     "data": {
      "text/html": [
       "<div>\n",
       "<style scoped>\n",
       "    .dataframe tbody tr th:only-of-type {\n",
       "        vertical-align: middle;\n",
       "    }\n",
       "\n",
       "    .dataframe tbody tr th {\n",
       "        vertical-align: top;\n",
       "    }\n",
       "\n",
       "    .dataframe thead th {\n",
       "        text-align: right;\n",
       "    }\n",
       "</style>\n",
       "<table border=\"1\" class=\"dataframe\">\n",
       "  <thead>\n",
       "    <tr style=\"text-align: right;\">\n",
       "      <th></th>\n",
       "      <th>id</th>\n",
       "      <th>pipeline_name</th>\n",
       "      <th>score</th>\n",
       "      <th>validation_score</th>\n",
       "      <th>percent_better_than_baseline</th>\n",
       "      <th>high_variance_cv</th>\n",
       "      <th>parameters</th>\n",
       "    </tr>\n",
       "  </thead>\n",
       "  <tbody>\n",
       "    <tr>\n",
       "      <th>0</th>\n",
       "      <td>3</td>\n",
       "      <td>XGBoost Regressor w/ Imputer + One Hot Encoder</td>\n",
       "      <td>9.123975e-01</td>\n",
       "      <td>9.102444e-01</td>\n",
       "      <td>1.968135e+06</td>\n",
       "      <td>False</td>\n",
       "      <td>{'Imputer': {'categorical_impute_strategy': 'm...</td>\n",
       "    </tr>\n",
       "    <tr>\n",
       "      <th>1</th>\n",
       "      <td>6</td>\n",
       "      <td>LightGBM Regressor w/ Imputer + One Hot Encoder</td>\n",
       "      <td>8.489848e-01</td>\n",
       "      <td>8.490019e-01</td>\n",
       "      <td>1.831354e+06</td>\n",
       "      <td>False</td>\n",
       "      <td>{'Imputer': {'categorical_impute_strategy': 'm...</td>\n",
       "    </tr>\n",
       "    <tr>\n",
       "      <th>2</th>\n",
       "      <td>5</td>\n",
       "      <td>Random Forest Regressor w/ Imputer + One Hot E...</td>\n",
       "      <td>8.429824e-01</td>\n",
       "      <td>8.399297e-01</td>\n",
       "      <td>1.818407e+06</td>\n",
       "      <td>False</td>\n",
       "      <td>{'Imputer': {'categorical_impute_strategy': 'm...</td>\n",
       "    </tr>\n",
       "    <tr>\n",
       "      <th>3</th>\n",
       "      <td>1</td>\n",
       "      <td>Decision Tree Regressor w/ Imputer + One Hot E...</td>\n",
       "      <td>8.304847e-01</td>\n",
       "      <td>8.285025e-01</td>\n",
       "      <td>1.791449e+06</td>\n",
       "      <td>False</td>\n",
       "      <td>{'Imputer': {'categorical_impute_strategy': 'm...</td>\n",
       "    </tr>\n",
       "    <tr>\n",
       "      <th>4</th>\n",
       "      <td>2</td>\n",
       "      <td>Extra Trees Regressor w/ Imputer + One Hot Enc...</td>\n",
       "      <td>7.934259e-01</td>\n",
       "      <td>7.971203e-01</td>\n",
       "      <td>1.711514e+06</td>\n",
       "      <td>False</td>\n",
       "      <td>{'Imputer': {'categorical_impute_strategy': 'm...</td>\n",
       "    </tr>\n",
       "    <tr>\n",
       "      <th>5</th>\n",
       "      <td>8</td>\n",
       "      <td>Elastic Net Regressor w/ Imputer + One Hot Enc...</td>\n",
       "      <td>7.193974e-01</td>\n",
       "      <td>7.218031e-01</td>\n",
       "      <td>1.551835e+06</td>\n",
       "      <td>False</td>\n",
       "      <td>{'Imputer': {'categorical_impute_strategy': 'm...</td>\n",
       "    </tr>\n",
       "    <tr>\n",
       "      <th>6</th>\n",
       "      <td>4</td>\n",
       "      <td>CatBoost Regressor w/ Imputer</td>\n",
       "      <td>3.488625e-01</td>\n",
       "      <td>3.497518e-01</td>\n",
       "      <td>7.525938e+05</td>\n",
       "      <td>False</td>\n",
       "      <td>{'Imputer': {'categorical_impute_strategy': 'm...</td>\n",
       "    </tr>\n",
       "    <tr>\n",
       "      <th>7</th>\n",
       "      <td>0</td>\n",
       "      <td>Mean Baseline Regression Pipeline</td>\n",
       "      <td>-4.636084e-05</td>\n",
       "      <td>-8.077549e-06</td>\n",
       "      <td>0.000000e+00</td>\n",
       "      <td>True</td>\n",
       "      <td>{'Baseline Regressor': {'strategy': 'mean'}}</td>\n",
       "    </tr>\n",
       "    <tr>\n",
       "      <th>8</th>\n",
       "      <td>7</td>\n",
       "      <td>Linear Regressor w/ Imputer + One Hot Encoder ...</td>\n",
       "      <td>-3.949270e+21</td>\n",
       "      <td>-1.184781e+22</td>\n",
       "      <td>-8.518547e+27</td>\n",
       "      <td>True</td>\n",
       "      <td>{'Imputer': {'categorical_impute_strategy': 'm...</td>\n",
       "    </tr>\n",
       "  </tbody>\n",
       "</table>\n",
       "</div>"
      ],
      "text/plain": [
       "   id                                      pipeline_name         score  \\\n",
       "0   3     XGBoost Regressor w/ Imputer + One Hot Encoder  9.123975e-01   \n",
       "1   6    LightGBM Regressor w/ Imputer + One Hot Encoder  8.489848e-01   \n",
       "2   5  Random Forest Regressor w/ Imputer + One Hot E...  8.429824e-01   \n",
       "3   1  Decision Tree Regressor w/ Imputer + One Hot E...  8.304847e-01   \n",
       "4   2  Extra Trees Regressor w/ Imputer + One Hot Enc...  7.934259e-01   \n",
       "5   8  Elastic Net Regressor w/ Imputer + One Hot Enc...  7.193974e-01   \n",
       "6   4                      CatBoost Regressor w/ Imputer  3.488625e-01   \n",
       "7   0                  Mean Baseline Regression Pipeline -4.636084e-05   \n",
       "8   7  Linear Regressor w/ Imputer + One Hot Encoder ... -3.949270e+21   \n",
       "\n",
       "   validation_score  percent_better_than_baseline  high_variance_cv  \\\n",
       "0      9.102444e-01                  1.968135e+06             False   \n",
       "1      8.490019e-01                  1.831354e+06             False   \n",
       "2      8.399297e-01                  1.818407e+06             False   \n",
       "3      8.285025e-01                  1.791449e+06             False   \n",
       "4      7.971203e-01                  1.711514e+06             False   \n",
       "5      7.218031e-01                  1.551835e+06             False   \n",
       "6      3.497518e-01                  7.525938e+05             False   \n",
       "7     -8.077549e-06                  0.000000e+00              True   \n",
       "8     -1.184781e+22                 -8.518547e+27              True   \n",
       "\n",
       "                                          parameters  \n",
       "0  {'Imputer': {'categorical_impute_strategy': 'm...  \n",
       "1  {'Imputer': {'categorical_impute_strategy': 'm...  \n",
       "2  {'Imputer': {'categorical_impute_strategy': 'm...  \n",
       "3  {'Imputer': {'categorical_impute_strategy': 'm...  \n",
       "4  {'Imputer': {'categorical_impute_strategy': 'm...  \n",
       "5  {'Imputer': {'categorical_impute_strategy': 'm...  \n",
       "6  {'Imputer': {'categorical_impute_strategy': 'm...  \n",
       "7       {'Baseline Regressor': {'strategy': 'mean'}}  \n",
       "8  {'Imputer': {'categorical_impute_strategy': 'm...  "
      ]
     },
     "execution_count": 31,
     "metadata": {},
     "output_type": "execute_result"
    }
   ],
   "source": [
    "model1.rankings"
   ]
  },
  {
   "cell_type": "markdown",
   "id": "spoken-sheep",
   "metadata": {
    "papermill": {
     "duration": 0.284696,
     "end_time": "2021-04-18T06:58:07.995409",
     "exception": false,
     "start_time": "2021-04-18T06:58:07.710713",
     "status": "completed"
    },
    "tags": []
   },
   "source": [
    "# **As we can see from ranking the XGBoost regressoer performed best on this data so we will use this model for further study**"
   ]
  },
  {
   "cell_type": "code",
   "execution_count": 32,
   "id": "opposed-event",
   "metadata": {
    "execution": {
     "iopub.execute_input": "2021-04-18T06:58:08.570683Z",
     "iopub.status.busy": "2021-04-18T06:58:08.569704Z",
     "iopub.status.idle": "2021-04-18T06:58:08.572735Z",
     "shell.execute_reply": "2021-04-18T06:58:08.572178Z"
    },
    "papermill": {
     "duration": 0.290085,
     "end_time": "2021-04-18T06:58:08.572876",
     "exception": false,
     "start_time": "2021-04-18T06:58:08.282791",
     "status": "completed"
    },
    "tags": []
   },
   "outputs": [],
   "source": [
    "from sklearn.model_selection import cross_val_score, train_test_split, RandomizedSearchCV\n",
    "from sklearn.preprocessing import LabelEncoder, OneHotEncoder\n",
    "from sklearn.impute import SimpleImputer\n",
    "from xgboost import XGBRegressor"
   ]
  },
  {
   "cell_type": "markdown",
   "id": "legislative-shoot",
   "metadata": {
    "papermill": {
     "duration": 0.285119,
     "end_time": "2021-04-18T06:58:09.138755",
     "exception": false,
     "start_time": "2021-04-18T06:58:08.853636",
     "status": "completed"
    },
    "tags": []
   },
   "source": [
    "# **impute missing values**"
   ]
  },
  {
   "cell_type": "code",
   "execution_count": 33,
   "id": "direct-front",
   "metadata": {
    "execution": {
     "iopub.execute_input": "2021-04-18T06:58:09.713149Z",
     "iopub.status.busy": "2021-04-18T06:58:09.712518Z",
     "iopub.status.idle": "2021-04-18T06:58:09.724508Z",
     "shell.execute_reply": "2021-04-18T06:58:09.723942Z"
    },
    "papermill": {
     "duration": 0.301452,
     "end_time": "2021-04-18T06:58:09.724655",
     "exception": false,
     "start_time": "2021-04-18T06:58:09.423203",
     "status": "completed"
    },
    "tags": []
   },
   "outputs": [
    {
     "data": {
      "text/plain": [
       "0         120\n",
       "1         120\n",
       "2         120\n",
       "3         120\n",
       "4         120\n",
       "         ... \n",
       "108535    145\n",
       "108536    145\n",
       "108537    145\n",
       "108538    145\n",
       "108539    145\n",
       "Name: tax, Length: 108540, dtype: int64"
      ]
     },
     "execution_count": 33,
     "metadata": {},
     "output_type": "execute_result"
    }
   ],
   "source": [
    "si= SimpleImputer(strategy=\"mean\")\n",
    "si.fit(np.array(x[\"tax\"]).reshape(-1,1))\n",
    "x[\"tax\"]= si.transform(np.array(x['tax']).reshape(-1,1)).astype(dtype=\"int\")\n",
    "x.tax"
   ]
  },
  {
   "cell_type": "code",
   "execution_count": 34,
   "id": "median-oxygen",
   "metadata": {
    "execution": {
     "iopub.execute_input": "2021-04-18T06:58:10.309175Z",
     "iopub.status.busy": "2021-04-18T06:58:10.307999Z",
     "iopub.status.idle": "2021-04-18T06:58:10.315147Z",
     "shell.execute_reply": "2021-04-18T06:58:10.314506Z"
    },
    "papermill": {
     "duration": 0.301301,
     "end_time": "2021-04-18T06:58:10.315303",
     "exception": false,
     "start_time": "2021-04-18T06:58:10.014002",
     "status": "completed"
    },
    "tags": []
   },
   "outputs": [],
   "source": [
    "x['mpg']= si.fit_transform(np.array(x['mpg']).reshape(-1,1)).astype(dtype=\"int\")"
   ]
  },
  {
   "cell_type": "code",
   "execution_count": 35,
   "id": "consecutive-church",
   "metadata": {
    "execution": {
     "iopub.execute_input": "2021-04-18T06:58:10.922526Z",
     "iopub.status.busy": "2021-04-18T06:58:10.921290Z",
     "iopub.status.idle": "2021-04-18T06:58:11.927977Z",
     "shell.execute_reply": "2021-04-18T06:58:11.928482Z"
    },
    "papermill": {
     "duration": 1.328498,
     "end_time": "2021-04-18T06:58:11.928666",
     "exception": false,
     "start_time": "2021-04-18T06:58:10.600168",
     "status": "completed"
    },
    "tags": []
   },
   "outputs": [
    {
     "data": {
      "text/plain": [
       "<AxesSubplot:>"
      ]
     },
     "execution_count": 35,
     "metadata": {},
     "output_type": "execute_result"
    },
    {
     "data": {
      "image/png": "[encoded data removed]",
      "text/plain": [
       "<Figure size 432x288 with 2 Axes>"
      ]
     },
     "metadata": {
      "needs_background": "light"
     },
     "output_type": "display_data"
    }
   ],
   "source": [
    "sns.heatmap(x.isnull(), yticklabels=False) "
   ]
  },
  {
   "cell_type": "markdown",
   "id": "unsigned-upper",
   "metadata": {
    "papermill": {
     "duration": 0.286842,
     "end_time": "2021-04-18T06:58:12.507966",
     "exception": false,
     "start_time": "2021-04-18T06:58:12.221124",
     "status": "completed"
    },
    "tags": []
   },
   "source": [
    "# **categorical features**"
   ]
  },
  {
   "cell_type": "code",
   "execution_count": 36,
   "id": "independent-orchestra",
   "metadata": {
    "execution": {
     "iopub.execute_input": "2021-04-18T06:58:13.087942Z",
     "iopub.status.busy": "2021-04-18T06:58:13.087369Z",
     "iopub.status.idle": "2021-04-18T06:58:13.103464Z",
     "shell.execute_reply": "2021-04-18T06:58:13.102878Z"
    },
    "papermill": {
     "duration": 0.307799,
     "end_time": "2021-04-18T06:58:13.103608",
     "exception": false,
     "start_time": "2021-04-18T06:58:12.795809",
     "status": "completed"
    },
    "tags": []
   },
   "outputs": [
    {
     "data": {
      "text/html": [
       "<div>\n",
       "<style scoped>\n",
       "    .dataframe tbody tr th:only-of-type {\n",
       "        vertical-align: middle;\n",
       "    }\n",
       "\n",
       "    .dataframe tbody tr th {\n",
       "        vertical-align: top;\n",
       "    }\n",
       "\n",
       "    .dataframe thead th {\n",
       "        text-align: right;\n",
       "    }\n",
       "</style>\n",
       "<table border=\"1\" class=\"dataframe\">\n",
       "  <thead>\n",
       "    <tr style=\"text-align: right;\">\n",
       "      <th></th>\n",
       "      <th>model</th>\n",
       "      <th>year</th>\n",
       "      <th>transmission</th>\n",
       "      <th>mileage</th>\n",
       "      <th>fuelType</th>\n",
       "      <th>engineSize</th>\n",
       "      <th>tax</th>\n",
       "      <th>mpg</th>\n",
       "    </tr>\n",
       "  </thead>\n",
       "  <tbody>\n",
       "    <tr>\n",
       "      <th>0</th>\n",
       "      <td>C Class</td>\n",
       "      <td>2020</td>\n",
       "      <td>Automatic</td>\n",
       "      <td>1200</td>\n",
       "      <td>Diesel</td>\n",
       "      <td>2.0</td>\n",
       "      <td>120</td>\n",
       "      <td>55</td>\n",
       "    </tr>\n",
       "    <tr>\n",
       "      <th>1</th>\n",
       "      <td>C Class</td>\n",
       "      <td>2020</td>\n",
       "      <td>Automatic</td>\n",
       "      <td>1000</td>\n",
       "      <td>Petrol</td>\n",
       "      <td>1.5</td>\n",
       "      <td>120</td>\n",
       "      <td>55</td>\n",
       "    </tr>\n",
       "    <tr>\n",
       "      <th>2</th>\n",
       "      <td>C Class</td>\n",
       "      <td>2020</td>\n",
       "      <td>Automatic</td>\n",
       "      <td>500</td>\n",
       "      <td>Diesel</td>\n",
       "      <td>2.0</td>\n",
       "      <td>120</td>\n",
       "      <td>55</td>\n",
       "    </tr>\n",
       "    <tr>\n",
       "      <th>3</th>\n",
       "      <td>C Class</td>\n",
       "      <td>2019</td>\n",
       "      <td>Automatic</td>\n",
       "      <td>5000</td>\n",
       "      <td>Diesel</td>\n",
       "      <td>2.0</td>\n",
       "      <td>120</td>\n",
       "      <td>55</td>\n",
       "    </tr>\n",
       "    <tr>\n",
       "      <th>4</th>\n",
       "      <td>C Class</td>\n",
       "      <td>2019</td>\n",
       "      <td>Automatic</td>\n",
       "      <td>4500</td>\n",
       "      <td>Diesel</td>\n",
       "      <td>2.0</td>\n",
       "      <td>120</td>\n",
       "      <td>55</td>\n",
       "    </tr>\n",
       "  </tbody>\n",
       "</table>\n",
       "</div>"
      ],
      "text/plain": [
       "      model  year transmission  mileage fuelType  engineSize  tax  mpg\n",
       "0   C Class  2020    Automatic     1200   Diesel         2.0  120   55\n",
       "1   C Class  2020    Automatic     1000   Petrol         1.5  120   55\n",
       "2   C Class  2020    Automatic      500   Diesel         2.0  120   55\n",
       "3   C Class  2019    Automatic     5000   Diesel         2.0  120   55\n",
       "4   C Class  2019    Automatic     4500   Diesel         2.0  120   55"
      ]
     },
     "execution_count": 36,
     "metadata": {},
     "output_type": "execute_result"
    }
   ],
   "source": [
    "x.head()"
   ]
  },
  {
   "cell_type": "code",
   "execution_count": 37,
   "id": "amber-perth",
   "metadata": {
    "execution": {
     "iopub.execute_input": "2021-04-18T06:58:13.725966Z",
     "iopub.status.busy": "2021-04-18T06:58:13.724838Z",
     "iopub.status.idle": "2021-04-18T06:58:13.839673Z",
     "shell.execute_reply": "2021-04-18T06:58:13.838974Z"
    },
    "papermill": {
     "duration": 0.444563,
     "end_time": "2021-04-18T06:58:13.839835",
     "exception": false,
     "start_time": "2021-04-18T06:58:13.395272",
     "status": "completed"
    },
    "tags": []
   },
   "outputs": [],
   "source": [
    "cat_feat= ['model', 'year', 'transmission', 'fuelType', 'engineSize', 'tax', 'mpg']\n",
    "le= LabelEncoder()\n",
    "for feature in cat_feat:\n",
    "    x[feature]= le.fit_transform(x[feature])"
   ]
  },
  {
   "cell_type": "code",
   "execution_count": 38,
   "id": "surgical-woman",
   "metadata": {
    "execution": {
     "iopub.execute_input": "2021-04-18T06:58:14.419603Z",
     "iopub.status.busy": "2021-04-18T06:58:14.418968Z",
     "iopub.status.idle": "2021-04-18T06:58:14.430919Z",
     "shell.execute_reply": "2021-04-18T06:58:14.431492Z"
    },
    "papermill": {
     "duration": 0.301703,
     "end_time": "2021-04-18T06:58:14.431671",
     "exception": false,
     "start_time": "2021-04-18T06:58:14.129968",
     "status": "completed"
    },
    "tags": []
   },
   "outputs": [
    {
     "data": {
      "text/html": [
       "<div>\n",
       "<style scoped>\n",
       "    .dataframe tbody tr th:only-of-type {\n",
       "        vertical-align: middle;\n",
       "    }\n",
       "\n",
       "    .dataframe tbody tr th {\n",
       "        vertical-align: top;\n",
       "    }\n",
       "\n",
       "    .dataframe thead th {\n",
       "        text-align: right;\n",
       "    }\n",
       "</style>\n",
       "<table border=\"1\" class=\"dataframe\">\n",
       "  <thead>\n",
       "    <tr style=\"text-align: right;\">\n",
       "      <th></th>\n",
       "      <th>model</th>\n",
       "      <th>year</th>\n",
       "      <th>transmission</th>\n",
       "      <th>mileage</th>\n",
       "      <th>fuelType</th>\n",
       "      <th>engineSize</th>\n",
       "      <th>tax</th>\n",
       "      <th>mpg</th>\n",
       "    </tr>\n",
       "  </thead>\n",
       "  <tbody>\n",
       "    <tr>\n",
       "      <th>0</th>\n",
       "      <td>32</td>\n",
       "      <td>27</td>\n",
       "      <td>0</td>\n",
       "      <td>1200</td>\n",
       "      <td>0</td>\n",
       "      <td>12</td>\n",
       "      <td>6</td>\n",
       "      <td>45</td>\n",
       "    </tr>\n",
       "    <tr>\n",
       "      <th>1</th>\n",
       "      <td>32</td>\n",
       "      <td>27</td>\n",
       "      <td>0</td>\n",
       "      <td>1000</td>\n",
       "      <td>4</td>\n",
       "      <td>7</td>\n",
       "      <td>6</td>\n",
       "      <td>45</td>\n",
       "    </tr>\n",
       "    <tr>\n",
       "      <th>2</th>\n",
       "      <td>32</td>\n",
       "      <td>27</td>\n",
       "      <td>0</td>\n",
       "      <td>500</td>\n",
       "      <td>0</td>\n",
       "      <td>12</td>\n",
       "      <td>6</td>\n",
       "      <td>45</td>\n",
       "    </tr>\n",
       "    <tr>\n",
       "      <th>3</th>\n",
       "      <td>32</td>\n",
       "      <td>26</td>\n",
       "      <td>0</td>\n",
       "      <td>5000</td>\n",
       "      <td>0</td>\n",
       "      <td>12</td>\n",
       "      <td>6</td>\n",
       "      <td>45</td>\n",
       "    </tr>\n",
       "    <tr>\n",
       "      <th>4</th>\n",
       "      <td>32</td>\n",
       "      <td>26</td>\n",
       "      <td>0</td>\n",
       "      <td>4500</td>\n",
       "      <td>0</td>\n",
       "      <td>12</td>\n",
       "      <td>6</td>\n",
       "      <td>45</td>\n",
       "    </tr>\n",
       "  </tbody>\n",
       "</table>\n",
       "</div>"
      ],
      "text/plain": [
       "   model  year  transmission  mileage  fuelType  engineSize  tax  mpg\n",
       "0     32    27             0     1200         0          12    6   45\n",
       "1     32    27             0     1000         4           7    6   45\n",
       "2     32    27             0      500         0          12    6   45\n",
       "3     32    26             0     5000         0          12    6   45\n",
       "4     32    26             0     4500         0          12    6   45"
      ]
     },
     "execution_count": 38,
     "metadata": {},
     "output_type": "execute_result"
    }
   ],
   "source": [
    "x.head()"
   ]
  },
  {
   "cell_type": "markdown",
   "id": "public-boutique",
   "metadata": {
    "papermill": {
     "duration": 0.285367,
     "end_time": "2021-04-18T06:58:15.002574",
     "exception": false,
     "start_time": "2021-04-18T06:58:14.717207",
     "status": "completed"
    },
    "tags": []
   },
   "source": [
    "# **split the data**"
   ]
  },
  {
   "cell_type": "code",
   "execution_count": 39,
   "id": "integrated-neighbor",
   "metadata": {
    "execution": {
     "iopub.execute_input": "2021-04-18T06:58:15.581417Z",
     "iopub.status.busy": "2021-04-18T06:58:15.580719Z",
     "iopub.status.idle": "2021-04-18T06:58:15.602930Z",
     "shell.execute_reply": "2021-04-18T06:58:15.602378Z"
    },
    "papermill": {
     "duration": 0.311521,
     "end_time": "2021-04-18T06:58:15.603078",
     "exception": false,
     "start_time": "2021-04-18T06:58:15.291557",
     "status": "completed"
    },
    "tags": []
   },
   "outputs": [],
   "source": [
    "# split the data into training and testing data\n",
    "x_train, x_test, y_train, y_test= train_test_split(x,y,test_size=0.2, random_state=20)"
   ]
  },
  {
   "cell_type": "code",
   "execution_count": 40,
   "id": "further-discipline",
   "metadata": {
    "execution": {
     "iopub.execute_input": "2021-04-18T06:58:16.187170Z",
     "iopub.status.busy": "2021-04-18T06:58:16.186237Z",
     "iopub.status.idle": "2021-04-18T06:58:16.189966Z",
     "shell.execute_reply": "2021-04-18T06:58:16.190454Z"
    },
    "papermill": {
     "duration": 0.301006,
     "end_time": "2021-04-18T06:58:16.190617",
     "exception": false,
     "start_time": "2021-04-18T06:58:15.889611",
     "status": "completed"
    },
    "tags": []
   },
   "outputs": [
    {
     "data": {
      "text/plain": [
       "GeneratedPipeline(parameters={'Imputer':{'categorical_impute_strategy': 'most_frequent', 'numeric_impute_strategy': 'mean', 'categorical_fill_value': None, 'numeric_fill_value': None}, 'One Hot Encoder':{'top_n': 10, 'features_to_encode': None, 'categories': None, 'drop': 'if_binary', 'handle_unknown': 'ignore', 'handle_missing': 'error'}, 'XGBoost Regressor':{'eta': 0.1, 'max_depth': 6, 'min_child_weight': 1, 'n_estimators': 100},})"
      ]
     },
     "execution_count": 40,
     "metadata": {},
     "output_type": "execute_result"
    }
   ],
   "source": [
    "model1.best_pipeline"
   ]
  },
  {
   "cell_type": "code",
   "execution_count": 41,
   "id": "fresh-static",
   "metadata": {
    "execution": {
     "iopub.execute_input": "2021-04-18T06:58:16.768225Z",
     "iopub.status.busy": "2021-04-18T06:58:16.767567Z",
     "iopub.status.idle": "2021-04-18T06:58:23.054265Z",
     "shell.execute_reply": "2021-04-18T06:58:23.054762Z"
    },
    "papermill": {
     "duration": 6.579164,
     "end_time": "2021-04-18T06:58:23.054936",
     "exception": false,
     "start_time": "2021-04-18T06:58:16.475772",
     "status": "completed"
    },
    "tags": []
   },
   "outputs": [
    {
     "data": {
      "text/plain": [
       "XGBRegressor(base_score=0.5, booster='gbtree', colsample_bylevel=1,\n",
       "             colsample_bynode=1, colsample_bytree=1, gamma=0, gpu_id=-1,\n",
       "             importance_type='gain', interaction_constraints='',\n",
       "             learning_rate=0.300000012, max_delta_step=0, max_depth=6,\n",
       "             min_child_weight=1, missing=nan, monotone_constraints='()',\n",
       "             n_estimators=100, n_jobs=-1, num_parallel_tree=1, random_state=20,\n",
       "             reg_alpha=0, reg_lambda=1, scale_pos_weight=1, subsample=1,\n",
       "             tree_method='exact', validate_parameters=1, verbosity=None)"
      ]
     },
     "execution_count": 41,
     "metadata": {},
     "output_type": "execute_result"
    }
   ],
   "source": [
    "model= XGBRegressor(n_estimators= 100, max_depth=6, min_child_weight= 1, n_jobs=-1, random_state= 20)\n",
    "model.fit(x_train, y_train)"
   ]
  },
  {
   "cell_type": "code",
   "execution_count": 42,
   "id": "rapid-least",
   "metadata": {
    "execution": {
     "iopub.execute_input": "2021-04-18T06:58:23.636952Z",
     "iopub.status.busy": "2021-04-18T06:58:23.635980Z",
     "iopub.status.idle": "2021-04-18T06:58:23.789804Z",
     "shell.execute_reply": "2021-04-18T06:58:23.789236Z"
    },
    "papermill": {
     "duration": 0.444404,
     "end_time": "2021-04-18T06:58:23.789946",
     "exception": false,
     "start_time": "2021-04-18T06:58:23.345542",
     "status": "completed"
    },
    "tags": []
   },
   "outputs": [
    {
     "data": {
      "text/plain": [
       "1261.3424733775041"
      ]
     },
     "execution_count": 42,
     "metadata": {},
     "output_type": "execute_result"
    }
   ],
   "source": [
    "from sklearn.metrics import mean_absolute_error as MAE\n",
    "y_pred= model.predict(x_test)\n",
    "mae= MAE(y_test, y_pred)\n",
    "mae"
   ]
  },
  {
   "cell_type": "code",
   "execution_count": 43,
   "id": "empirical-afghanistan",
   "metadata": {
    "execution": {
     "iopub.execute_input": "2021-04-18T06:58:24.372459Z",
     "iopub.status.busy": "2021-04-18T06:58:24.371577Z",
     "iopub.status.idle": "2021-04-18T06:58:24.376913Z",
     "shell.execute_reply": "2021-04-18T06:58:24.377419Z"
    },
    "papermill": {
     "duration": 0.296826,
     "end_time": "2021-04-18T06:58:24.377596",
     "exception": false,
     "start_time": "2021-04-18T06:58:24.080770",
     "status": "completed"
    },
    "tags": []
   },
   "outputs": [
    {
     "data": {
      "text/plain": [
       "1926.3317990034814"
      ]
     },
     "execution_count": 43,
     "metadata": {},
     "output_type": "execute_result"
    }
   ],
   "source": [
    "from sklearn.metrics import mean_squared_error as MSE\n",
    "rmse= np.sqrt(MSE(y_test, y_pred))\n",
    "rmse"
   ]
  },
  {
   "cell_type": "code",
   "execution_count": 44,
   "id": "demanding-sister",
   "metadata": {
    "execution": {
     "iopub.execute_input": "2021-04-18T06:58:24.959122Z",
     "iopub.status.busy": "2021-04-18T06:58:24.958130Z",
     "iopub.status.idle": "2021-04-18T06:58:24.963102Z",
     "shell.execute_reply": "2021-04-18T06:58:24.963752Z"
    },
    "papermill": {
     "duration": 0.300688,
     "end_time": "2021-04-18T06:58:24.963930",
     "exception": false,
     "start_time": "2021-04-18T06:58:24.663242",
     "status": "completed"
    },
    "tags": []
   },
   "outputs": [
    {
     "data": {
      "text/plain": [
       "0.9612337914412679"
      ]
     },
     "execution_count": 44,
     "metadata": {},
     "output_type": "execute_result"
    }
   ],
   "source": [
    "from sklearn.metrics import r2_score\n",
    "\n",
    "r2= r2_score(y_test, y_pred)\n",
    "r2"
   ]
  },
  {
   "cell_type": "code",
   "execution_count": 45,
   "id": "compressed-potential",
   "metadata": {
    "execution": {
     "iopub.execute_input": "2021-04-18T06:58:25.557042Z",
     "iopub.status.busy": "2021-04-18T06:58:25.556284Z",
     "iopub.status.idle": "2021-04-18T06:58:42.510632Z",
     "shell.execute_reply": "2021-04-18T06:58:42.510113Z"
    },
    "papermill": {
     "duration": 17.25228,
     "end_time": "2021-04-18T06:58:42.510785",
     "exception": false,
     "start_time": "2021-04-18T06:58:25.258505",
     "status": "completed"
    },
    "tags": []
   },
   "outputs": [
    {
     "data": {
      "text/plain": [
       "array([0.95745635, 0.94782425, 0.95731704, 0.95196841, 0.96034018])"
      ]
     },
     "execution_count": 45,
     "metadata": {},
     "output_type": "execute_result"
    }
   ],
   "source": [
    "score= cross_val_score(model, x_train, y_train, cv=5, n_jobs=-1)\n",
    "score"
   ]
  },
  {
   "cell_type": "code",
   "execution_count": 46,
   "id": "alpha-behavior",
   "metadata": {
    "execution": {
     "iopub.execute_input": "2021-04-18T06:58:43.145322Z",
     "iopub.status.busy": "2021-04-18T06:58:43.144712Z",
     "iopub.status.idle": "2021-04-18T06:58:46.568661Z",
     "shell.execute_reply": "2021-04-18T06:58:46.568036Z"
    },
    "papermill": {
     "duration": 3.718956,
     "end_time": "2021-04-18T06:58:46.568808",
     "exception": false,
     "start_time": "2021-04-18T06:58:42.849852",
     "status": "completed"
    },
    "tags": []
   },
   "outputs": [
    {
     "data": {
      "text/plain": [
       "array([0.95220234, 0.95636118, 0.94543763, 0.92430653, 0.94538339])"
      ]
     },
     "execution_count": 46,
     "metadata": {},
     "output_type": "execute_result"
    }
   ],
   "source": [
    "score= cross_val_score(model, x_test, y_test, cv=5, n_jobs=-1)\n",
    "score"
   ]
  },
  {
   "cell_type": "markdown",
   "id": "fuzzy-battle",
   "metadata": {
    "papermill": {
     "duration": 0.294462,
     "end_time": "2021-04-18T06:58:47.155236",
     "exception": false,
     "start_time": "2021-04-18T06:58:46.860774",
     "status": "completed"
    },
    "tags": []
   },
   "source": [
    "**r2 score is above 94%**"
   ]
  },
  {
   "cell_type": "markdown",
   "id": "integral-neutral",
   "metadata": {
    "papermill": {
     "duration": 0.290196,
     "end_time": "2021-04-18T06:58:47.735818",
     "exception": false,
     "start_time": "2021-04-18T06:58:47.445622",
     "status": "completed"
    },
    "tags": []
   },
   "source": [
    "# **hyperparameter tunning**"
   ]
  },
  {
   "cell_type": "markdown",
   "id": "authorized-banana",
   "metadata": {
    "papermill": {
     "duration": 0.296394,
     "end_time": "2021-04-18T06:58:48.324586",
     "exception": false,
     "start_time": "2021-04-18T06:58:48.028192",
     "status": "completed"
    },
    "tags": []
   },
   "source": [
    "# **Grid search CV**"
   ]
  },
  {
   "cell_type": "code",
   "execution_count": 47,
   "id": "danish-mainstream",
   "metadata": {
    "execution": {
     "iopub.execute_input": "2021-04-18T06:58:48.909159Z",
     "iopub.status.busy": "2021-04-18T06:58:48.908536Z",
     "iopub.status.idle": "2021-04-18T06:58:48.915938Z",
     "shell.execute_reply": "2021-04-18T06:58:48.916575Z"
    },
    "papermill": {
     "duration": 0.301288,
     "end_time": "2021-04-18T06:58:48.916742",
     "exception": false,
     "start_time": "2021-04-18T06:58:48.615454",
     "status": "completed"
    },
    "tags": []
   },
   "outputs": [
    {
     "data": {
      "text/plain": [
       "<bound method XGBModel.get_params of XGBRegressor(base_score=0.5, booster='gbtree', colsample_bylevel=1,\n",
       "             colsample_bynode=1, colsample_bytree=1, gamma=0, gpu_id=-1,\n",
       "             importance_type='gain', interaction_constraints='',\n",
       "             learning_rate=0.300000012, max_delta_step=0, max_depth=6,\n",
       "             min_child_weight=1, missing=nan, monotone_constraints='()',\n",
       "             n_estimators=100, n_jobs=-1, num_parallel_tree=1, random_state=20,\n",
       "             reg_alpha=0, reg_lambda=1, scale_pos_weight=1, subsample=1,\n",
       "             tree_method='exact', validate_parameters=1, verbosity=None)>"
      ]
     },
     "execution_count": 47,
     "metadata": {},
     "output_type": "execute_result"
    }
   ],
   "source": [
    "model.get_params"
   ]
  },
  {
   "cell_type": "code",
   "execution_count": 48,
   "id": "textile-malawi",
   "metadata": {
    "execution": {
     "iopub.execute_input": "2021-04-18T06:58:49.504229Z",
     "iopub.status.busy": "2021-04-18T06:58:49.503562Z",
     "iopub.status.idle": "2021-04-18T06:58:49.508535Z",
     "shell.execute_reply": "2021-04-18T06:58:49.509019Z"
    },
    "papermill": {
     "duration": 0.300305,
     "end_time": "2021-04-18T06:58:49.509186",
     "exception": false,
     "start_time": "2021-04-18T06:58:49.208881",
     "status": "completed"
    },
    "tags": []
   },
   "outputs": [],
   "source": [
    "from sklearn.model_selection import GridSearchCV\n",
    "params= [{\"n_estimators\": [50,100,200], \"learning_rate\": [0.1, 0.3, 0.5], \"max_depth\": [4,6,10]}]\n",
    "\n",
    "reg = GridSearchCV(model, params, n_jobs=-1)"
   ]
  },
  {
   "cell_type": "code",
   "execution_count": 49,
   "id": "varying-productivity",
   "metadata": {
    "execution": {
     "iopub.execute_input": "2021-04-18T06:58:50.095054Z",
     "iopub.status.busy": "2021-04-18T06:58:50.094448Z",
     "iopub.status.idle": "2021-04-18T07:05:43.479302Z",
     "shell.execute_reply": "2021-04-18T07:05:43.480189Z"
    },
    "papermill": {
     "duration": 413.680568,
     "end_time": "2021-04-18T07:05:43.480743",
     "exception": false,
     "start_time": "2021-04-18T06:58:49.800175",
     "status": "completed"
    },
    "tags": []
   },
   "outputs": [
    {
     "data": {
      "text/plain": [
       "GridSearchCV(estimator=XGBRegressor(base_score=0.5, booster='gbtree',\n",
       "                                    colsample_bylevel=1, colsample_bynode=1,\n",
       "                                    colsample_bytree=1, gamma=0, gpu_id=-1,\n",
       "                                    importance_type='gain',\n",
       "                                    interaction_constraints='',\n",
       "                                    learning_rate=0.300000012, max_delta_step=0,\n",
       "                                    max_depth=6, min_child_weight=1,\n",
       "                                    missing=nan, monotone_constraints='()',\n",
       "                                    n_estimators=100, n_jobs=-1,\n",
       "                                    num_parallel_tree=1, random_state=20,\n",
       "                                    reg_alpha=0, reg_lambda=1,\n",
       "                                    scale_pos_weight=1, subsample=1,\n",
       "                                    tree_method='exact', validate_parameters=1,\n",
       "                                    verbosity=None),\n",
       "             n_jobs=-1,\n",
       "             param_grid=[{'learning_rate': [0.1, 0.3, 0.5],\n",
       "                          'max_depth': [4, 6, 10],\n",
       "                          'n_estimators': [50, 100, 200]}])"
      ]
     },
     "execution_count": 49,
     "metadata": {},
     "output_type": "execute_result"
    }
   ],
   "source": [
    "reg.fit(x_train, y_train)"
   ]
  },
  {
   "cell_type": "code",
   "execution_count": 50,
   "id": "dental-buffalo",
   "metadata": {
    "execution": {
     "iopub.execute_input": "2021-04-18T07:05:44.080749Z",
     "iopub.status.busy": "2021-04-18T07:05:44.080090Z",
     "iopub.status.idle": "2021-04-18T07:05:44.087930Z",
     "shell.execute_reply": "2021-04-18T07:05:44.087298Z"
    },
    "papermill": {
     "duration": 0.312105,
     "end_time": "2021-04-18T07:05:44.088065",
     "exception": false,
     "start_time": "2021-04-18T07:05:43.775960",
     "status": "completed"
    },
    "tags": []
   },
   "outputs": [
    {
     "data": {
      "text/plain": [
       "XGBRegressor(base_score=0.5, booster='gbtree', colsample_bylevel=1,\n",
       "             colsample_bynode=1, colsample_bytree=1, gamma=0, gpu_id=-1,\n",
       "             importance_type='gain', interaction_constraints='',\n",
       "             learning_rate=0.1, max_delta_step=0, max_depth=10,\n",
       "             min_child_weight=1, missing=nan, monotone_constraints='()',\n",
       "             n_estimators=200, n_jobs=-1, num_parallel_tree=1, random_state=20,\n",
       "             reg_alpha=0, reg_lambda=1, scale_pos_weight=1, subsample=1,\n",
       "             tree_method='exact', validate_parameters=1, verbosity=None)"
      ]
     },
     "execution_count": 50,
     "metadata": {},
     "output_type": "execute_result"
    }
   ],
   "source": [
    "reg.best_estimator_"
   ]
  },
  {
   "cell_type": "code",
   "execution_count": 51,
   "id": "covered-museum",
   "metadata": {
    "execution": {
     "iopub.execute_input": "2021-04-18T07:05:44.681699Z",
     "iopub.status.busy": "2021-04-18T07:05:44.681069Z",
     "iopub.status.idle": "2021-04-18T07:05:44.684386Z",
     "shell.execute_reply": "2021-04-18T07:05:44.683859Z"
    },
    "papermill": {
     "duration": 0.302242,
     "end_time": "2021-04-18T07:05:44.684530",
     "exception": false,
     "start_time": "2021-04-18T07:05:44.382288",
     "status": "completed"
    },
    "tags": []
   },
   "outputs": [],
   "source": [
    "best_est_1= reg.best_estimator_"
   ]
  },
  {
   "cell_type": "code",
   "execution_count": 52,
   "id": "straight-lucas",
   "metadata": {
    "execution": {
     "iopub.execute_input": "2021-04-18T07:05:45.280966Z",
     "iopub.status.busy": "2021-04-18T07:05:45.280252Z",
     "iopub.status.idle": "2021-04-18T07:05:45.284894Z",
     "shell.execute_reply": "2021-04-18T07:05:45.284378Z"
    },
    "papermill": {
     "duration": 0.306816,
     "end_time": "2021-04-18T07:05:45.285027",
     "exception": false,
     "start_time": "2021-04-18T07:05:44.978211",
     "status": "completed"
    },
    "tags": []
   },
   "outputs": [
    {
     "data": {
      "text/plain": [
       "{'learning_rate': 0.1, 'max_depth': 10, 'n_estimators': 200}"
      ]
     },
     "execution_count": 52,
     "metadata": {},
     "output_type": "execute_result"
    }
   ],
   "source": [
    "reg.best_params_"
   ]
  },
  {
   "cell_type": "code",
   "execution_count": 53,
   "id": "declared-rabbit",
   "metadata": {
    "execution": {
     "iopub.execute_input": "2021-04-18T07:05:45.887149Z",
     "iopub.status.busy": "2021-04-18T07:05:45.886533Z",
     "iopub.status.idle": "2021-04-18T07:05:57.187522Z",
     "shell.execute_reply": "2021-04-18T07:05:57.186913Z"
    },
    "papermill": {
     "duration": 11.606297,
     "end_time": "2021-04-18T07:05:57.187680",
     "exception": false,
     "start_time": "2021-04-18T07:05:45.581383",
     "status": "completed"
    },
    "tags": []
   },
   "outputs": [
    {
     "data": {
      "text/plain": [
       "array([0.95114516, 0.95515548, 0.94343978, 0.92066936, 0.94562477])"
      ]
     },
     "execution_count": 53,
     "metadata": {},
     "output_type": "execute_result"
    }
   ],
   "source": [
    "score= cross_val_score(best_est_1, x_test, y_test, cv=5, n_jobs=-1)\n",
    "score"
   ]
  },
  {
   "cell_type": "code",
   "execution_count": null,
   "id": "civilian-angel",
   "metadata": {
    "papermill": {
     "duration": 0.293756,
     "end_time": "2021-04-18T07:05:57.778170",
     "exception": false,
     "start_time": "2021-04-18T07:05:57.484414",
     "status": "completed"
    },
    "tags": []
   },
   "outputs": [],
   "source": []
  }
 ],
 "metadata": {
  "kernelspec": {
   "display_name": "Python 3",
   "language": "python",
   "name": "python3"
  },
  "language_info": {
   "codemirror_mode": {
    "name": "ipython",
    "version": 3
   },
   "file_extension": ".py",
   "mimetype": "text/x-python",
   "name": "python",
   "nbconvert_exporter": "python",
   "pygments_lexer": "ipython3",
   "version": "3.7.9"
  },
  "papermill": {
   "default_parameters": {},
   "duration": 627.408349,
   "end_time": "2021-04-18T07:06:00.599097",
   "environment_variables": {},
   "exception": null,
   "input_path": "__notebook__.ipynb",
   "output_path": "__notebook__.ipynb",
   "parameters": {},
   "start_time": "2021-04-18T06:55:33.190748",
   "version": "2.3.2"
  },
  "widgets": {
   "application/vnd.jupyter.widget-state+json": {
    "state": {
     "af36f6e2547c4277a5f930b9c33aac40": {
      "model_module": "plotlywidget",
      "model_module_version": "^4.14.3",
      "model_name": "FigureModel",
      "state": {
       "_config": {
        "plotlyServerURL": "https://plot.ly"
       },
       "_data": [
        {
         "mode": "lines+markers",
         "name": "Best Score",
         "type": "scatter",
         "uid": "c815367a-8691-4918-b431-88815506e893",
         "x": [],
         "y": []
        },
        {
         "marker": {
          "color": "gray"
         },
         "mode": "markers",
         "name": "Iter score",
         "type": "scatter",
         "uid": "25252aea-d26a-4f91-a26f-727b02153de5",
         "x": [],
         "y": []
        }
       ],
       "_dom_classes": [],
       "_js2py_layoutDelta": {},
       "_js2py_pointsCallback": {},
       "_js2py_relayout": {},
       "_js2py_restyle": {},
       "_js2py_traceDeltas": {},
       "_js2py_update": {},
       "_last_layout_edit_id": 37,
       "_last_trace_edit_id": 37,
       "_layout": {
        "title": {
         "text": "Pipeline Search: Iteration vs. R2<br><sub>Gray marker indicates the score at current iteration</sub>"
        },
        "xaxis": {
         "rangemode": "tozero",
         "title": {
          "text": "Iteration"
         }
        },
        "yaxis": {
         "title": {
          "text": "Score"
         }
        }
       },
       "_model_module": "plotlywidget",
       "_model_module_version": "^4.14.3",
       "_model_name": "FigureModel",
       "_py2js_addTraces": {},
       "_py2js_animate": {},
       "_py2js_deleteTraces": {},
       "_py2js_moveTraces": {},
       "_py2js_relayout": null,
       "_py2js_removeLayoutProps": {},
       "_py2js_removeTraceProps": {},
       "_py2js_restyle": null,
       "_py2js_update": null,
       "_view_count": 0,
       "_view_module": "plotlywidget",
       "_view_module_version": "^4.14.3",
       "_view_name": "FigureView"
      }
     }
    },
    "version_major": 2,
    "version_minor": 0
   }
  }
 },
 "nbformat": 4,
 "nbformat_minor": 5
}
